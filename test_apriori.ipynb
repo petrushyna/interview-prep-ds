{
 "cells": [
  {
   "cell_type": "code",
   "execution_count": 1,
   "metadata": {},
   "outputs": [],
   "source": [
    "from language import tf_idf\n",
    "\n",
    "from sklearn.pipeline import Pipeline, FeatureUnion\n",
    "from sklearn.feature_extraction.text import CountVectorizer\n",
    "\n",
    "import pandas as pd\n",
    "import numpy as np\n",
    "import interview_utility as ut\n",
    "from sklearn.pipeline import Pipeline\n",
    "from pipeline import t_listToOneHot\n",
    "import apriori"
   ]
  },
  {
   "cell_type": "markdown",
   "metadata": {},
   "source": [
    "Feature engineering: \n",
    "1. steps of recipes are extracted\n",
    "2. n number of columns is added according to n number of steps, the <columnsToAdd> number of columns is added\n",
    "3. most frequent words from each step column are extracted\n",
    "4. ratings for recipes are added\n"
   ]
  },
  {
   "cell_type": "code",
   "execution_count": 2,
   "metadata": {},
   "outputs": [
    {
     "name": "stdout",
     "output_type": "stream",
     "text": "Most frequent words:\n[['oven', 'preheat', 'preheat oven', 'degre', 'oven degre'], ['add', 'mix', 'ingredi', 'place', 'sugar'], ['mix', 'cover', 'drain', 'add', 'serv'], ['hour', 'add', 'tomato', 'boil', 'pepper'], ['add', 'garlic', 'egg', 'sugar', 'oregano'], ['egg', 'oregano', 'water', 'add', 'combin'], ['cook', 'add', 'season', 'pepper', 'ingredi'], ['stir', 'add', 'cover', 'chees', 'whiskey'], ['stir', 'simmer', 'bed', 'chile', 'cocoa'], ['add', 'hour', 'bake', 'cornmeal', 'morn'], ['bake', 'boil', 'chees', 'simmer', 'tomato'], ['toss', 'bake', 'heat', 'chees', 'turkey'], ['bake', 'chees', 'serv', 'desir', 'oil'], ['bake', 'stir', 'salt', 'pepperoni', 'rice'], ['add', 'bake', 'potato', 'mixtur', 'sauc'], ['serv', 'bake', 'overcook', 'runni', 'sugar'], ['heat', 'oil', 'freez', 'hour', 'add'], ['piec', 'serv', 'batter', 'garnish', 'return'], ['serv', 'steak', 'cook', 'stir', 'reheat serv'], ['hamburg', 'flour', 'stir blend', 'stir', 'blend'], ['cook', 'avocado', 'prego', 'deep fryer', 'slight smoke']]\n"
    }
   ],
   "source": [
    "r_recipes = pd.read_csv('data/food-com/r_recipes.csv')\n",
    "r_recipes['steps'] = r_recipes['steps'].apply(lambda x : x.replace(\"'\", '').\n",
    "                                                 replace('[', '').\n",
    "                                                 replace(']','').\n",
    "                                                 split(','))\n",
    "pip = Pipeline([\n",
    "    (\"stepsToColumns\", ut.ColStrColumns(columns = ['steps'], columnsToAdd = 20)), \n",
    "    (\"mostFrequentWordOneHotEncoded\", tf_idf.freqToOneHot())\n",
    "])\n",
    "output = pip.transform(r_recipes[:50])\n",
    "\n",
    "#join information from other files\n",
    "r_recipes = r_recipes[['id']].join(output, how = 'inner')\n",
    "interaction_df = pd.read_csv('/home/svetik/Notebooks/food-com/interactions_train.csv')\n",
    "interaction_rating_df = interaction_df.groupby(['recipe_id']).mean()['rating']\n",
    "interaction_rating_df = pd.DataFrame(interaction_rating_df)\n",
    "interaction_rating_df.index.rename('id')\n",
    "r_r = r_recipes.join(interaction_rating_df, on = 'id', how = 'inner')\n",
    "r_r.index = r_r.id\n",
    "r_r = r_r.drop(columns = ['id'])\n",
    "r_r['rating'] = r_r['rating'].apply(lambda x: round(x))"
   ]
  },
  {
   "cell_type": "code",
   "execution_count": 3,
   "metadata": {},
   "outputs": [
    {
     "name": "stdout",
     "output_type": "stream",
     "text": "2 values are deleted\n"
    }
   ],
   "source": [
    "r_r = ut.dfWithZeroNullOnly(r_r.drop(columns = ['rating']))"
   ]
  },
  {
   "cell_type": "code",
   "execution_count": 4,
   "metadata": {},
   "outputs": [
    {
     "data": {
      "text/html": "<div>\n<style scoped>\n    .dataframe tbody tr th:only-of-type {\n        vertical-align: middle;\n    }\n\n    .dataframe tbody tr th {\n        vertical-align: top;\n    }\n\n    .dataframe thead th {\n        text-align: right;\n    }\n</style>\n<table border=\"1\" class=\"dataframe\">\n  <thead>\n    <tr style=\"text-align: right;\">\n      <th></th>\n      <th>preheat</th>\n      <th>oven</th>\n      <th>sugar</th>\n      <th>add</th>\n      <th>place</th>\n      <th>mix</th>\n      <th>add_2step</th>\n      <th>drain</th>\n      <th>cover</th>\n      <th>mix_2step</th>\n      <th>...</th>\n      <th>garnish</th>\n      <th>batter</th>\n      <th>stir_18step</th>\n      <th>cook_18step</th>\n      <th>steak</th>\n      <th>stir_19step</th>\n      <th>flour</th>\n      <th>cook_20step</th>\n      <th>avocado</th>\n      <th>prego</th>\n    </tr>\n    <tr>\n      <th>id</th>\n      <th></th>\n      <th></th>\n      <th></th>\n      <th></th>\n      <th></th>\n      <th></th>\n      <th></th>\n      <th></th>\n      <th></th>\n      <th></th>\n      <th></th>\n      <th></th>\n      <th></th>\n      <th></th>\n      <th></th>\n      <th></th>\n      <th></th>\n      <th></th>\n      <th></th>\n      <th></th>\n      <th></th>\n    </tr>\n  </thead>\n  <tbody>\n    <tr>\n      <td>75452</td>\n      <td>1</td>\n      <td>1</td>\n      <td>0</td>\n      <td>0</td>\n      <td>0</td>\n      <td>0</td>\n      <td>0</td>\n      <td>0</td>\n      <td>0</td>\n      <td>0</td>\n      <td>...</td>\n      <td>0</td>\n      <td>0</td>\n      <td>0</td>\n      <td>0</td>\n      <td>0</td>\n      <td>0</td>\n      <td>0</td>\n      <td>0</td>\n      <td>0</td>\n      <td>0</td>\n    </tr>\n    <tr>\n      <td>42198</td>\n      <td>0</td>\n      <td>0</td>\n      <td>1</td>\n      <td>0</td>\n      <td>0</td>\n      <td>1</td>\n      <td>1</td>\n      <td>0</td>\n      <td>0</td>\n      <td>0</td>\n      <td>...</td>\n      <td>0</td>\n      <td>0</td>\n      <td>0</td>\n      <td>0</td>\n      <td>0</td>\n      <td>0</td>\n      <td>0</td>\n      <td>0</td>\n      <td>0</td>\n      <td>0</td>\n    </tr>\n    <tr>\n      <td>67547</td>\n      <td>0</td>\n      <td>0</td>\n      <td>0</td>\n      <td>0</td>\n      <td>0</td>\n      <td>0</td>\n      <td>0</td>\n      <td>0</td>\n      <td>1</td>\n      <td>0</td>\n      <td>...</td>\n      <td>0</td>\n      <td>0</td>\n      <td>0</td>\n      <td>0</td>\n      <td>1</td>\n      <td>0</td>\n      <td>0</td>\n      <td>0</td>\n      <td>0</td>\n      <td>0</td>\n    </tr>\n    <tr>\n      <td>39959</td>\n      <td>0</td>\n      <td>0</td>\n      <td>0</td>\n      <td>0</td>\n      <td>0</td>\n      <td>0</td>\n      <td>0</td>\n      <td>0</td>\n      <td>0</td>\n      <td>0</td>\n      <td>...</td>\n      <td>0</td>\n      <td>0</td>\n      <td>0</td>\n      <td>0</td>\n      <td>0</td>\n      <td>0</td>\n      <td>0</td>\n      <td>0</td>\n      <td>0</td>\n      <td>0</td>\n    </tr>\n    <tr>\n      <td>63986</td>\n      <td>0</td>\n      <td>0</td>\n      <td>0</td>\n      <td>0</td>\n      <td>0</td>\n      <td>0</td>\n      <td>0</td>\n      <td>0</td>\n      <td>0</td>\n      <td>0</td>\n      <td>...</td>\n      <td>0</td>\n      <td>0</td>\n      <td>0</td>\n      <td>0</td>\n      <td>0</td>\n      <td>0</td>\n      <td>0</td>\n      <td>0</td>\n      <td>0</td>\n      <td>0</td>\n    </tr>\n    <tr>\n      <td>43026</td>\n      <td>0</td>\n      <td>0</td>\n      <td>0</td>\n      <td>0</td>\n      <td>0</td>\n      <td>0</td>\n      <td>0</td>\n      <td>0</td>\n      <td>0</td>\n      <td>0</td>\n      <td>...</td>\n      <td>0</td>\n      <td>0</td>\n      <td>0</td>\n      <td>0</td>\n      <td>0</td>\n      <td>0</td>\n      <td>0</td>\n      <td>0</td>\n      <td>0</td>\n      <td>0</td>\n    </tr>\n    <tr>\n      <td>8559</td>\n      <td>0</td>\n      <td>0</td>\n      <td>0</td>\n      <td>1</td>\n      <td>0</td>\n      <td>0</td>\n      <td>0</td>\n      <td>0</td>\n      <td>0</td>\n      <td>0</td>\n      <td>...</td>\n      <td>0</td>\n      <td>0</td>\n      <td>0</td>\n      <td>0</td>\n      <td>0</td>\n      <td>0</td>\n      <td>0</td>\n      <td>0</td>\n      <td>0</td>\n      <td>0</td>\n    </tr>\n    <tr>\n      <td>76808</td>\n      <td>0</td>\n      <td>0</td>\n      <td>0</td>\n      <td>0</td>\n      <td>0</td>\n      <td>0</td>\n      <td>0</td>\n      <td>0</td>\n      <td>0</td>\n      <td>0</td>\n      <td>...</td>\n      <td>0</td>\n      <td>0</td>\n      <td>0</td>\n      <td>0</td>\n      <td>0</td>\n      <td>0</td>\n      <td>0</td>\n      <td>0</td>\n      <td>0</td>\n      <td>0</td>\n    </tr>\n    <tr>\n      <td>24701</td>\n      <td>0</td>\n      <td>0</td>\n      <td>0</td>\n      <td>0</td>\n      <td>0</td>\n      <td>0</td>\n      <td>0</td>\n      <td>0</td>\n      <td>0</td>\n      <td>0</td>\n      <td>...</td>\n      <td>0</td>\n      <td>0</td>\n      <td>0</td>\n      <td>0</td>\n      <td>0</td>\n      <td>0</td>\n      <td>0</td>\n      <td>0</td>\n      <td>0</td>\n      <td>0</td>\n    </tr>\n    <tr>\n      <td>49262</td>\n      <td>0</td>\n      <td>0</td>\n      <td>0</td>\n      <td>0</td>\n      <td>0</td>\n      <td>0</td>\n      <td>0</td>\n      <td>0</td>\n      <td>0</td>\n      <td>0</td>\n      <td>...</td>\n      <td>0</td>\n      <td>0</td>\n      <td>0</td>\n      <td>0</td>\n      <td>0</td>\n      <td>0</td>\n      <td>0</td>\n      <td>0</td>\n      <td>0</td>\n      <td>0</td>\n    </tr>\n    <tr>\n      <td>54272</td>\n      <td>0</td>\n      <td>0</td>\n      <td>0</td>\n      <td>0</td>\n      <td>0</td>\n      <td>0</td>\n      <td>0</td>\n      <td>0</td>\n      <td>0</td>\n      <td>0</td>\n      <td>...</td>\n      <td>0</td>\n      <td>0</td>\n      <td>0</td>\n      <td>0</td>\n      <td>0</td>\n      <td>0</td>\n      <td>0</td>\n      <td>0</td>\n      <td>0</td>\n      <td>0</td>\n    </tr>\n    <tr>\n      <td>47366</td>\n      <td>0</td>\n      <td>0</td>\n      <td>0</td>\n      <td>0</td>\n      <td>0</td>\n      <td>0</td>\n      <td>0</td>\n      <td>0</td>\n      <td>1</td>\n      <td>0</td>\n      <td>...</td>\n      <td>0</td>\n      <td>0</td>\n      <td>0</td>\n      <td>0</td>\n      <td>0</td>\n      <td>0</td>\n      <td>0</td>\n      <td>0</td>\n      <td>0</td>\n      <td>0</td>\n    </tr>\n    <tr>\n      <td>54100</td>\n      <td>0</td>\n      <td>0</td>\n      <td>0</td>\n      <td>0</td>\n      <td>0</td>\n      <td>1</td>\n      <td>1</td>\n      <td>0</td>\n      <td>0</td>\n      <td>1</td>\n      <td>...</td>\n      <td>0</td>\n      <td>0</td>\n      <td>0</td>\n      <td>1</td>\n      <td>0</td>\n      <td>0</td>\n      <td>0</td>\n      <td>0</td>\n      <td>0</td>\n      <td>0</td>\n    </tr>\n    <tr>\n      <td>87098</td>\n      <td>0</td>\n      <td>0</td>\n      <td>0</td>\n      <td>0</td>\n      <td>0</td>\n      <td>0</td>\n      <td>0</td>\n      <td>0</td>\n      <td>0</td>\n      <td>0</td>\n      <td>...</td>\n      <td>0</td>\n      <td>0</td>\n      <td>0</td>\n      <td>0</td>\n      <td>0</td>\n      <td>0</td>\n      <td>0</td>\n      <td>0</td>\n      <td>0</td>\n      <td>0</td>\n    </tr>\n    <tr>\n      <td>25775</td>\n      <td>1</td>\n      <td>1</td>\n      <td>0</td>\n      <td>0</td>\n      <td>1</td>\n      <td>0</td>\n      <td>0</td>\n      <td>0</td>\n      <td>0</td>\n      <td>0</td>\n      <td>...</td>\n      <td>0</td>\n      <td>0</td>\n      <td>0</td>\n      <td>0</td>\n      <td>0</td>\n      <td>0</td>\n      <td>0</td>\n      <td>0</td>\n      <td>0</td>\n      <td>0</td>\n    </tr>\n    <tr>\n      <td>33165</td>\n      <td>0</td>\n      <td>0</td>\n      <td>0</td>\n      <td>0</td>\n      <td>1</td>\n      <td>0</td>\n      <td>1</td>\n      <td>0</td>\n      <td>1</td>\n      <td>0</td>\n      <td>...</td>\n      <td>0</td>\n      <td>0</td>\n      <td>0</td>\n      <td>0</td>\n      <td>0</td>\n      <td>0</td>\n      <td>0</td>\n      <td>0</td>\n      <td>0</td>\n      <td>0</td>\n    </tr>\n    <tr>\n      <td>38798</td>\n      <td>0</td>\n      <td>0</td>\n      <td>0</td>\n      <td>0</td>\n      <td>0</td>\n      <td>0</td>\n      <td>0</td>\n      <td>0</td>\n      <td>1</td>\n      <td>0</td>\n      <td>...</td>\n      <td>0</td>\n      <td>0</td>\n      <td>0</td>\n      <td>0</td>\n      <td>0</td>\n      <td>0</td>\n      <td>0</td>\n      <td>0</td>\n      <td>0</td>\n      <td>0</td>\n    </tr>\n    <tr>\n      <td>22123</td>\n      <td>0</td>\n      <td>0</td>\n      <td>0</td>\n      <td>0</td>\n      <td>0</td>\n      <td>0</td>\n      <td>1</td>\n      <td>0</td>\n      <td>0</td>\n      <td>0</td>\n      <td>...</td>\n      <td>0</td>\n      <td>0</td>\n      <td>0</td>\n      <td>0</td>\n      <td>0</td>\n      <td>0</td>\n      <td>0</td>\n      <td>0</td>\n      <td>0</td>\n      <td>0</td>\n    </tr>\n    <tr>\n      <td>90921</td>\n      <td>0</td>\n      <td>0</td>\n      <td>0</td>\n      <td>0</td>\n      <td>0</td>\n      <td>0</td>\n      <td>0</td>\n      <td>1</td>\n      <td>0</td>\n      <td>0</td>\n      <td>...</td>\n      <td>0</td>\n      <td>0</td>\n      <td>0</td>\n      <td>0</td>\n      <td>0</td>\n      <td>0</td>\n      <td>0</td>\n      <td>0</td>\n      <td>0</td>\n      <td>0</td>\n    </tr>\n    <tr>\n      <td>93958</td>\n      <td>1</td>\n      <td>1</td>\n      <td>0</td>\n      <td>0</td>\n      <td>0</td>\n      <td>0</td>\n      <td>0</td>\n      <td>0</td>\n      <td>0</td>\n      <td>0</td>\n      <td>...</td>\n      <td>0</td>\n      <td>1</td>\n      <td>0</td>\n      <td>0</td>\n      <td>0</td>\n      <td>0</td>\n      <td>0</td>\n      <td>0</td>\n      <td>0</td>\n      <td>0</td>\n    </tr>\n    <tr>\n      <td>58224</td>\n      <td>0</td>\n      <td>0</td>\n      <td>1</td>\n      <td>0</td>\n      <td>0</td>\n      <td>0</td>\n      <td>0</td>\n      <td>0</td>\n      <td>0</td>\n      <td>0</td>\n      <td>...</td>\n      <td>0</td>\n      <td>0</td>\n      <td>0</td>\n      <td>0</td>\n      <td>0</td>\n      <td>0</td>\n      <td>0</td>\n      <td>0</td>\n      <td>0</td>\n      <td>0</td>\n    </tr>\n    <tr>\n      <td>33606</td>\n      <td>0</td>\n      <td>0</td>\n      <td>0</td>\n      <td>0</td>\n      <td>1</td>\n      <td>0</td>\n      <td>0</td>\n      <td>0</td>\n      <td>0</td>\n      <td>0</td>\n      <td>...</td>\n      <td>0</td>\n      <td>0</td>\n      <td>0</td>\n      <td>0</td>\n      <td>0</td>\n      <td>0</td>\n      <td>0</td>\n      <td>0</td>\n      <td>0</td>\n      <td>0</td>\n    </tr>\n    <tr>\n      <td>94710</td>\n      <td>0</td>\n      <td>0</td>\n      <td>0</td>\n      <td>0</td>\n      <td>0</td>\n      <td>0</td>\n      <td>0</td>\n      <td>0</td>\n      <td>0</td>\n      <td>0</td>\n      <td>...</td>\n      <td>0</td>\n      <td>0</td>\n      <td>0</td>\n      <td>0</td>\n      <td>0</td>\n      <td>0</td>\n      <td>0</td>\n      <td>0</td>\n      <td>0</td>\n      <td>0</td>\n    </tr>\n    <tr>\n      <td>108414</td>\n      <td>0</td>\n      <td>0</td>\n      <td>0</td>\n      <td>1</td>\n      <td>0</td>\n      <td>0</td>\n      <td>0</td>\n      <td>0</td>\n      <td>0</td>\n      <td>0</td>\n      <td>...</td>\n      <td>0</td>\n      <td>0</td>\n      <td>0</td>\n      <td>0</td>\n      <td>0</td>\n      <td>0</td>\n      <td>0</td>\n      <td>0</td>\n      <td>0</td>\n      <td>0</td>\n    </tr>\n    <tr>\n      <td>53402</td>\n      <td>0</td>\n      <td>0</td>\n      <td>0</td>\n      <td>1</td>\n      <td>0</td>\n      <td>0</td>\n      <td>0</td>\n      <td>0</td>\n      <td>0</td>\n      <td>0</td>\n      <td>...</td>\n      <td>0</td>\n      <td>0</td>\n      <td>0</td>\n      <td>0</td>\n      <td>0</td>\n      <td>0</td>\n      <td>0</td>\n      <td>0</td>\n      <td>0</td>\n      <td>0</td>\n    </tr>\n    <tr>\n      <td>59632</td>\n      <td>1</td>\n      <td>1</td>\n      <td>0</td>\n      <td>0</td>\n      <td>0</td>\n      <td>0</td>\n      <td>0</td>\n      <td>0</td>\n      <td>0</td>\n      <td>0</td>\n      <td>...</td>\n      <td>0</td>\n      <td>0</td>\n      <td>0</td>\n      <td>0</td>\n      <td>0</td>\n      <td>0</td>\n      <td>0</td>\n      <td>0</td>\n      <td>0</td>\n      <td>0</td>\n    </tr>\n    <tr>\n      <td>22526</td>\n      <td>0</td>\n      <td>0</td>\n      <td>0</td>\n      <td>1</td>\n      <td>0</td>\n      <td>0</td>\n      <td>0</td>\n      <td>0</td>\n      <td>0</td>\n      <td>0</td>\n      <td>...</td>\n      <td>0</td>\n      <td>0</td>\n      <td>0</td>\n      <td>0</td>\n      <td>0</td>\n      <td>0</td>\n      <td>0</td>\n      <td>0</td>\n      <td>0</td>\n      <td>0</td>\n    </tr>\n    <tr>\n      <td>100870</td>\n      <td>0</td>\n      <td>0</td>\n      <td>0</td>\n      <td>0</td>\n      <td>0</td>\n      <td>0</td>\n      <td>0</td>\n      <td>0</td>\n      <td>0</td>\n      <td>0</td>\n      <td>...</td>\n      <td>0</td>\n      <td>0</td>\n      <td>0</td>\n      <td>0</td>\n      <td>0</td>\n      <td>0</td>\n      <td>0</td>\n      <td>0</td>\n      <td>0</td>\n      <td>1</td>\n    </tr>\n    <tr>\n      <td>84797</td>\n      <td>0</td>\n      <td>0</td>\n      <td>1</td>\n      <td>0</td>\n      <td>0</td>\n      <td>0</td>\n      <td>0</td>\n      <td>0</td>\n      <td>0</td>\n      <td>0</td>\n      <td>...</td>\n      <td>0</td>\n      <td>0</td>\n      <td>0</td>\n      <td>0</td>\n      <td>0</td>\n      <td>0</td>\n      <td>0</td>\n      <td>0</td>\n      <td>0</td>\n      <td>0</td>\n    </tr>\n    <tr>\n      <td>32169</td>\n      <td>0</td>\n      <td>0</td>\n      <td>0</td>\n      <td>0</td>\n      <td>0</td>\n      <td>0</td>\n      <td>1</td>\n      <td>0</td>\n      <td>0</td>\n      <td>0</td>\n      <td>...</td>\n      <td>0</td>\n      <td>0</td>\n      <td>0</td>\n      <td>0</td>\n      <td>0</td>\n      <td>0</td>\n      <td>0</td>\n      <td>0</td>\n      <td>0</td>\n      <td>0</td>\n    </tr>\n  </tbody>\n</table>\n<p>30 rows × 70 columns</p>\n</div>",
      "text/plain": "        preheat  oven  sugar  add  place  mix  add_2step  drain  cover  \\\nid                                                                       \n75452         1     1      0    0      0    0          0      0      0   \n42198         0     0      1    0      0    1          1      0      0   \n67547         0     0      0    0      0    0          0      0      1   \n39959         0     0      0    0      0    0          0      0      0   \n63986         0     0      0    0      0    0          0      0      0   \n43026         0     0      0    0      0    0          0      0      0   \n8559          0     0      0    1      0    0          0      0      0   \n76808         0     0      0    0      0    0          0      0      0   \n24701         0     0      0    0      0    0          0      0      0   \n49262         0     0      0    0      0    0          0      0      0   \n54272         0     0      0    0      0    0          0      0      0   \n47366         0     0      0    0      0    0          0      0      1   \n54100         0     0      0    0      0    1          1      0      0   \n87098         0     0      0    0      0    0          0      0      0   \n25775         1     1      0    0      1    0          0      0      0   \n33165         0     0      0    0      1    0          1      0      1   \n38798         0     0      0    0      0    0          0      0      1   \n22123         0     0      0    0      0    0          1      0      0   \n90921         0     0      0    0      0    0          0      1      0   \n93958         1     1      0    0      0    0          0      0      0   \n58224         0     0      1    0      0    0          0      0      0   \n33606         0     0      0    0      1    0          0      0      0   \n94710         0     0      0    0      0    0          0      0      0   \n108414        0     0      0    1      0    0          0      0      0   \n53402         0     0      0    1      0    0          0      0      0   \n59632         1     1      0    0      0    0          0      0      0   \n22526         0     0      0    1      0    0          0      0      0   \n100870        0     0      0    0      0    0          0      0      0   \n84797         0     0      1    0      0    0          0      0      0   \n32169         0     0      0    0      0    0          1      0      0   \n\n        mix_2step  ...  garnish  batter  stir_18step  cook_18step  steak  \\\nid                 ...                                                     \n75452           0  ...        0       0            0            0      0   \n42198           0  ...        0       0            0            0      0   \n67547           0  ...        0       0            0            0      1   \n39959           0  ...        0       0            0            0      0   \n63986           0  ...        0       0            0            0      0   \n43026           0  ...        0       0            0            0      0   \n8559            0  ...        0       0            0            0      0   \n76808           0  ...        0       0            0            0      0   \n24701           0  ...        0       0            0            0      0   \n49262           0  ...        0       0            0            0      0   \n54272           0  ...        0       0            0            0      0   \n47366           0  ...        0       0            0            0      0   \n54100           1  ...        0       0            0            1      0   \n87098           0  ...        0       0            0            0      0   \n25775           0  ...        0       0            0            0      0   \n33165           0  ...        0       0            0            0      0   \n38798           0  ...        0       0            0            0      0   \n22123           0  ...        0       0            0            0      0   \n90921           0  ...        0       0            0            0      0   \n93958           0  ...        0       1            0            0      0   \n58224           0  ...        0       0            0            0      0   \n33606           0  ...        0       0            0            0      0   \n94710           0  ...        0       0            0            0      0   \n108414          0  ...        0       0            0            0      0   \n53402           0  ...        0       0            0            0      0   \n59632           0  ...        0       0            0            0      0   \n22526           0  ...        0       0            0            0      0   \n100870          0  ...        0       0            0            0      0   \n84797           0  ...        0       0            0            0      0   \n32169           0  ...        0       0            0            0      0   \n\n        stir_19step  flour  cook_20step  avocado  prego  \nid                                                       \n75452             0      0            0        0      0  \n42198             0      0            0        0      0  \n67547             0      0            0        0      0  \n39959             0      0            0        0      0  \n63986             0      0            0        0      0  \n43026             0      0            0        0      0  \n8559              0      0            0        0      0  \n76808             0      0            0        0      0  \n24701             0      0            0        0      0  \n49262             0      0            0        0      0  \n54272             0      0            0        0      0  \n47366             0      0            0        0      0  \n54100             0      0            0        0      0  \n87098             0      0            0        0      0  \n25775             0      0            0        0      0  \n33165             0      0            0        0      0  \n38798             0      0            0        0      0  \n22123             0      0            0        0      0  \n90921             0      0            0        0      0  \n93958             0      0            0        0      0  \n58224             0      0            0        0      0  \n33606             0      0            0        0      0  \n94710             0      0            0        0      0  \n108414            0      0            0        0      0  \n53402             0      0            0        0      0  \n59632             0      0            0        0      0  \n22526             0      0            0        0      0  \n100870            0      0            0        0      1  \n84797             0      0            0        0      0  \n32169             0      0            0        0      0  \n\n[30 rows x 70 columns]"
     },
     "execution_count": 4,
     "metadata": {},
     "output_type": "execute_result"
    }
   ],
   "source": [
    "r_r"
   ]
  },
  {
   "cell_type": "markdown",
   "metadata": {},
   "source": [
    "Freq_items will include the combination of items appearing more often together. The consequence can be up to 20 items"
   ]
  },
  {
   "cell_type": "code",
   "execution_count": 5,
   "metadata": {},
   "outputs": [
    {
     "name": "stdout",
     "output_type": "stream",
     "text": "Processing 27 combinations | Sampling itemset size 9\n"
    },
    {
     "data": {
      "text/html": "<div>\n<style scoped>\n    .dataframe tbody tr th:only-of-type {\n        vertical-align: middle;\n    }\n\n    .dataframe tbody tr th {\n        vertical-align: top;\n    }\n\n    .dataframe thead th {\n        text-align: right;\n    }\n</style>\n<table border=\"1\" class=\"dataframe\">\n  <thead>\n    <tr style=\"text-align: right;\">\n      <th></th>\n      <th>support</th>\n      <th>itemsets</th>\n    </tr>\n  </thead>\n  <tbody>\n    <tr>\n      <td>0</td>\n      <td>0.133333</td>\n      <td>(preheat)</td>\n    </tr>\n    <tr>\n      <td>1</td>\n      <td>0.133333</td>\n      <td>(oven)</td>\n    </tr>\n    <tr>\n      <td>2</td>\n      <td>0.100000</td>\n      <td>(sugar)</td>\n    </tr>\n    <tr>\n      <td>3</td>\n      <td>0.133333</td>\n      <td>(add)</td>\n    </tr>\n    <tr>\n      <td>4</td>\n      <td>0.100000</td>\n      <td>(place)</td>\n    </tr>\n    <tr>\n      <td>5</td>\n      <td>0.066667</td>\n      <td>(mix)</td>\n    </tr>\n    <tr>\n      <td>6</td>\n      <td>0.166667</td>\n      <td>(add_2step)</td>\n    </tr>\n  </tbody>\n</table>\n</div>",
      "text/plain": "    support     itemsets\n0  0.133333    (preheat)\n1  0.133333       (oven)\n2  0.100000      (sugar)\n3  0.133333        (add)\n4  0.100000      (place)\n5  0.066667        (mix)\n6  0.166667  (add_2step)"
     },
     "execution_count": 5,
     "metadata": {},
     "output_type": "execute_result"
    }
   ],
   "source": [
    "freq_items = apriori.detect_freq_items(r_r, min_percentage=0.01, max_len = 20)\n",
    "freq_items.head(7)"
   ]
  },
  {
   "cell_type": "code",
   "execution_count": 6,
   "metadata": {},
   "outputs": [],
   "source": [
    "rules = apriori.get_association_rules(freq_items)\n"
   ]
  },
  {
   "cell_type": "code",
   "execution_count": 7,
   "metadata": {},
   "outputs": [
    {
     "data": {
      "text/html": "<div>\n<style scoped>\n    .dataframe tbody tr th:only-of-type {\n        vertical-align: middle;\n    }\n\n    .dataframe tbody tr th {\n        vertical-align: top;\n    }\n\n    .dataframe thead th {\n        text-align: right;\n    }\n</style>\n<table border=\"1\" class=\"dataframe\">\n  <thead>\n    <tr style=\"text-align: right;\">\n      <th></th>\n      <th>antecedents</th>\n      <th>consequents</th>\n      <th>antecedent support</th>\n      <th>consequent support</th>\n      <th>support</th>\n      <th>confidence</th>\n      <th>lift</th>\n      <th>leverage</th>\n      <th>conviction</th>\n    </tr>\n  </thead>\n  <tbody>\n    <tr>\n      <td>0</td>\n      <td>(preheat)</td>\n      <td>(oven)</td>\n      <td>0.133333</td>\n      <td>0.133333</td>\n      <td>0.133333</td>\n      <td>1.0</td>\n      <td>7.5</td>\n      <td>0.115556</td>\n      <td>inf</td>\n    </tr>\n    <tr>\n      <td>1</td>\n      <td>(oven)</td>\n      <td>(preheat)</td>\n      <td>0.133333</td>\n      <td>0.133333</td>\n      <td>0.133333</td>\n      <td>1.0</td>\n      <td>7.5</td>\n      <td>0.115556</td>\n      <td>inf</td>\n    </tr>\n    <tr>\n      <td>2</td>\n      <td>(oil)</td>\n      <td>(preheat)</td>\n      <td>0.033333</td>\n      <td>0.133333</td>\n      <td>0.033333</td>\n      <td>1.0</td>\n      <td>7.5</td>\n      <td>0.028889</td>\n      <td>inf</td>\n    </tr>\n    <tr>\n      <td>3</td>\n      <td>(bake_13step)</td>\n      <td>(preheat)</td>\n      <td>0.033333</td>\n      <td>0.133333</td>\n      <td>0.033333</td>\n      <td>1.0</td>\n      <td>7.5</td>\n      <td>0.028889</td>\n      <td>inf</td>\n    </tr>\n    <tr>\n      <td>4</td>\n      <td>(bake_14step)</td>\n      <td>(preheat)</td>\n      <td>0.033333</td>\n      <td>0.133333</td>\n      <td>0.033333</td>\n      <td>1.0</td>\n      <td>7.5</td>\n      <td>0.028889</td>\n      <td>inf</td>\n    </tr>\n  </tbody>\n</table>\n</div>",
      "text/plain": "     antecedents consequents  antecedent support  consequent support  \\\n0      (preheat)      (oven)            0.133333            0.133333   \n1         (oven)   (preheat)            0.133333            0.133333   \n2          (oil)   (preheat)            0.033333            0.133333   \n3  (bake_13step)   (preheat)            0.033333            0.133333   \n4  (bake_14step)   (preheat)            0.033333            0.133333   \n\n    support  confidence  lift  leverage  conviction  \n0  0.133333         1.0   7.5  0.115556         inf  \n1  0.133333         1.0   7.5  0.115556         inf  \n2  0.033333         1.0   7.5  0.028889         inf  \n3  0.033333         1.0   7.5  0.028889         inf  \n4  0.033333         1.0   7.5  0.028889         inf  "
     },
     "execution_count": 7,
     "metadata": {},
     "output_type": "execute_result"
    }
   ],
   "source": [
    "rules.head()"
   ]
  },
  {
   "cell_type": "markdown",
   "metadata": {},
   "source": [
    "Following I get the list of steps (described by frequent words ín steps). The sequence consist only from two steps."
   ]
  },
  {
   "cell_type": "code",
   "execution_count": 12,
   "metadata": {},
   "outputs": [],
   "source": [
    "seq_ = rules[(rules.support > 0.04) & (rules.lift > 1) & (rules.confidence > 0.9) & (rules.iloc[:,2] > 0.01)][['antecedents', 'consequents']]\n",
    "seq_steps = apriori.allSequencesToList(seq_)\n"
   ]
  },
  {
   "cell_type": "code",
   "execution_count": 13,
   "metadata": {},
   "outputs": [
    {
     "data": {
      "text/plain": "[['preheat', 'oven'],\n ['oven', 'preheat'],\n ['toss', 'place'],\n ['mix', 'add_2step'],\n ['garlic', 'simmer'],\n ['simmer', 'garlic'],\n ['garlic', 'simmer_10step'],\n ['simmer_10step', 'garlic'],\n ['add_7step', 'add_4step'],\n ['simmer_10step', 'simmer'],\n ['simmer', 'simmer_10step'],\n ['garlic', 'simmer_10step', 'simmer'],\n ['garlic', 'simmer', 'simmer_10step'],\n ['simmer_10step', 'simmer', 'garlic'],\n ['garlic', 'simmer_10step', 'simmer'],\n ['simmer_10step', 'garlic', 'simmer'],\n ['simmer', 'garlic', 'simmer_10step']]"
     },
     "execution_count": 13,
     "metadata": {},
     "output_type": "execute_result"
    }
   ],
   "source": [
    "seq_steps"
   ]
  }
 ],
 "metadata": {
  "kernelspec": {
   "display_name": "Python 3",
   "language": "python",
   "name": "python3"
  },
  "language_info": {
   "codemirror_mode": {
    "name": "ipython",
    "version": 3
   },
   "file_extension": ".py",
   "mimetype": "text/x-python",
   "name": "python",
   "nbconvert_exporter": "python",
   "pygments_lexer": "ipython3",
   "version": "3.7.3-final"
  }
 },
 "nbformat": 4,
 "nbformat_minor": 2
}