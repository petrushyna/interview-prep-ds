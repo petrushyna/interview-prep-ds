{
 "cells": [
  {
   "cell_type": "code",
   "execution_count": 1,
   "metadata": {},
   "outputs": [],
   "source": [
    "from model import SplitTrainTest as split\n",
    "from model import metrics\n",
    "from model import SplitTrainTest as stt\n",
    "from language import tf_idf\n",
    "\n",
    "from sklearn.pipeline import Pipeline, FeatureUnion\n",
    "from sklearn.feature_extraction.text import CountVectorizer\n",
    "\n",
    "import pandas as pd\n",
    "import numpy as np\n",
    "import interview_utility as ut\n",
    "from sklearn.pipeline import Pipeline\n",
    "from pipeline import t_listToOneHot\n",
    "import apriori"
   ]
  },
  {
   "cell_type": "markdown",
   "metadata": {},
   "source": [
    "Feature engineering: \n",
    "1. steps of recipes are extracted\n",
    "2. n number of columns is added according to n number of steps, the <columnsToAdd> number of columns is added\n",
    "3. most frequent words from each step column are extracted\n",
    "4. ratings for recipes are added\n"
   ]
  },
  {
   "cell_type": "code",
   "execution_count": 2,
   "metadata": {},
   "outputs": [
    {
     "name": "stdout",
     "output_type": "stream",
     "text": "Most frequent words:\n[['oven', 'oven degre', 'degre', 'preheat', 'preheat oven'], ['mix', 'add', 'pan', 'ingredi', 'place'], ['drain', 'mix', 'stir', 'cover', 'add'], ['add', 'stir', 'boil', 'pepper', 'hour'], ['add', 'egg', 'sugar', 'cabbag', 'cover'], ['garlic', 'water', 'salt', 'egg', 'combin'], ['cook', 'season', 'add', 'pepper', 'tender'], ['stir', 'add', 'cover', 'chees', 'oat'], ['potato', 'bake', 'simmer', 'carrot', 'chile'], ['hour', 'butter', 'bake', 'add', 'touch'], ['boil', 'bake', 'chees', 'blend', 'cinnamon'], ['toss', 'heat', 'bake', 'cover', 'turkey'], ['bake', 'oil', 'serv', 'toast', 'desir'], ['stir', 'oven', 'salt', 'preheat', 'rice'], ['add', 'hour', 'potato', 'mixtur', 'cook'], ['serv', 'bake', 'overcook', 'turn', 'sugar'], ['heat', 'oil', 'freez', 'hour', 'drop'], ['piec', 'batter', 'garnish', 'feel comfort', 'comfort'], ['serv', 'cook', 'steak', 'stir', 'reheat serv'], ['hamburg', 'oven', 'flour', 'stir blend', 'stir'], ['avocado', 'bake', 'cook', 'use deep', 'fryer']]\n"
    }
   ],
   "source": [
    "r_recipes = pd.read_csv('/home/svetik/Notebooks/interview/food-com/RAW_recipes.csv')\n",
    "r_recipes['steps'] = r_recipes['steps'].apply(lambda x : x.replace(\"'\", '').\n",
    "                                                 replace('[', '').\n",
    "                                                 replace(']','').\n",
    "                                                 split(','))\n",
    "pip = Pipeline([\n",
    "    (\"stepsToColumns\", ut.ColStrColumns(columns = ['steps'], columnsToAdd = 20)), \n",
    "    (\"mostFrequentWordOneHotEncoded\", tf_idf.freqToOneHot())\n",
    "])\n",
    "output = pip.transform(r_recipes[:50])\n",
    "\n",
    "#join information from other files\n",
    "r_recipes = r_recipes[['id']].join(output, how = 'inner')\n",
    "interaction_df = pd.read_csv('/home/svetik/Notebooks/food-com/interactions_train.csv')\n",
    "interaction_rating_df = interaction_df.groupby(['recipe_id']).mean()['rating']\n",
    "interaction_rating_df = pd.DataFrame(interaction_rating_df)\n",
    "interaction_rating_df.index.rename('id')\n",
    "r_r = r_recipes.join(interaction_rating_df, on = 'id', how = 'inner')\n",
    "r_r.index = r_r.id\n",
    "r_r = r_r.drop(columns = ['id'])\n",
    "r_r['rating'] = r_r['rating'].apply(lambda x: round(x))"
   ]
  },
  {
   "cell_type": "code",
   "execution_count": 3,
   "metadata": {},
   "outputs": [
    {
     "name": "stdout",
     "output_type": "stream",
     "text": "3 values are deleted\n"
    }
   ],
   "source": [
    "r_r = ut.dfWithZeroNullOnly(r_r.drop(columns = ['rating']))"
   ]
  },
  {
   "cell_type": "code",
   "execution_count": 4,
   "metadata": {},
   "outputs": [
    {
     "data": {
      "text/html": "<div>\n<style scoped>\n    .dataframe tbody tr th:only-of-type {\n        vertical-align: middle;\n    }\n\n    .dataframe tbody tr th {\n        vertical-align: top;\n    }\n\n    .dataframe thead th {\n        text-align: right;\n    }\n</style>\n<table border=\"1\" class=\"dataframe\">\n  <thead>\n    <tr style=\"text-align: right;\">\n      <th></th>\n      <th>oven</th>\n      <th>preheat</th>\n      <th>add</th>\n      <th>mix</th>\n      <th>pan</th>\n      <th>place</th>\n      <th>mix_2step</th>\n      <th>cover</th>\n      <th>drain</th>\n      <th>stir</th>\n      <th>...</th>\n      <th>garnish</th>\n      <th>stir_18step</th>\n      <th>cook_18step</th>\n      <th>steak</th>\n      <th>stir_19step</th>\n      <th>oven_19step</th>\n      <th>flour</th>\n      <th>fryer</th>\n      <th>avocado</th>\n      <th>cook_20step</th>\n    </tr>\n    <tr>\n      <th>id</th>\n      <th></th>\n      <th></th>\n      <th></th>\n      <th></th>\n      <th></th>\n      <th></th>\n      <th></th>\n      <th></th>\n      <th></th>\n      <th></th>\n      <th></th>\n      <th></th>\n      <th></th>\n      <th></th>\n      <th></th>\n      <th></th>\n      <th></th>\n      <th></th>\n      <th></th>\n      <th></th>\n      <th></th>\n    </tr>\n  </thead>\n  <tbody>\n    <tr>\n      <td>137739</td>\n      <td>0</td>\n      <td>0</td>\n      <td>0</td>\n      <td>0</td>\n      <td>0</td>\n      <td>0</td>\n      <td>0</td>\n      <td>0</td>\n      <td>0</td>\n      <td>0</td>\n      <td>...</td>\n      <td>0</td>\n      <td>0</td>\n      <td>0</td>\n      <td>0</td>\n      <td>0</td>\n      <td>0</td>\n      <td>0</td>\n      <td>0</td>\n      <td>0</td>\n      <td>0</td>\n    </tr>\n    <tr>\n      <td>31490</td>\n      <td>1</td>\n      <td>1</td>\n      <td>0</td>\n      <td>0</td>\n      <td>1</td>\n      <td>0</td>\n      <td>0</td>\n      <td>0</td>\n      <td>0</td>\n      <td>0</td>\n      <td>...</td>\n      <td>0</td>\n      <td>0</td>\n      <td>0</td>\n      <td>0</td>\n      <td>0</td>\n      <td>0</td>\n      <td>0</td>\n      <td>0</td>\n      <td>0</td>\n      <td>0</td>\n    </tr>\n    <tr>\n      <td>59389</td>\n      <td>0</td>\n      <td>0</td>\n      <td>0</td>\n      <td>0</td>\n      <td>0</td>\n      <td>0</td>\n      <td>0</td>\n      <td>0</td>\n      <td>1</td>\n      <td>0</td>\n      <td>...</td>\n      <td>0</td>\n      <td>0</td>\n      <td>0</td>\n      <td>0</td>\n      <td>0</td>\n      <td>0</td>\n      <td>0</td>\n      <td>0</td>\n      <td>0</td>\n      <td>0</td>\n    </tr>\n    <tr>\n      <td>5289</td>\n      <td>0</td>\n      <td>0</td>\n      <td>0</td>\n      <td>0</td>\n      <td>0</td>\n      <td>0</td>\n      <td>0</td>\n      <td>0</td>\n      <td>0</td>\n      <td>0</td>\n      <td>...</td>\n      <td>0</td>\n      <td>0</td>\n      <td>0</td>\n      <td>0</td>\n      <td>0</td>\n      <td>0</td>\n      <td>0</td>\n      <td>0</td>\n      <td>0</td>\n      <td>0</td>\n    </tr>\n    <tr>\n      <td>70971</td>\n      <td>0</td>\n      <td>0</td>\n      <td>0</td>\n      <td>0</td>\n      <td>1</td>\n      <td>0</td>\n      <td>0</td>\n      <td>0</td>\n      <td>0</td>\n      <td>0</td>\n      <td>...</td>\n      <td>0</td>\n      <td>0</td>\n      <td>0</td>\n      <td>0</td>\n      <td>0</td>\n      <td>0</td>\n      <td>0</td>\n      <td>0</td>\n      <td>0</td>\n      <td>0</td>\n    </tr>\n    <tr>\n      <td>75452</td>\n      <td>1</td>\n      <td>1</td>\n      <td>0</td>\n      <td>0</td>\n      <td>0</td>\n      <td>0</td>\n      <td>0</td>\n      <td>0</td>\n      <td>0</td>\n      <td>0</td>\n      <td>...</td>\n      <td>0</td>\n      <td>0</td>\n      <td>0</td>\n      <td>0</td>\n      <td>0</td>\n      <td>0</td>\n      <td>0</td>\n      <td>0</td>\n      <td>0</td>\n      <td>0</td>\n    </tr>\n    <tr>\n      <td>42198</td>\n      <td>0</td>\n      <td>0</td>\n      <td>0</td>\n      <td>1</td>\n      <td>0</td>\n      <td>0</td>\n      <td>0</td>\n      <td>0</td>\n      <td>0</td>\n      <td>0</td>\n      <td>...</td>\n      <td>0</td>\n      <td>0</td>\n      <td>0</td>\n      <td>0</td>\n      <td>0</td>\n      <td>0</td>\n      <td>0</td>\n      <td>0</td>\n      <td>0</td>\n      <td>0</td>\n    </tr>\n    <tr>\n      <td>67547</td>\n      <td>0</td>\n      <td>0</td>\n      <td>0</td>\n      <td>0</td>\n      <td>0</td>\n      <td>0</td>\n      <td>0</td>\n      <td>1</td>\n      <td>0</td>\n      <td>0</td>\n      <td>...</td>\n      <td>0</td>\n      <td>0</td>\n      <td>0</td>\n      <td>1</td>\n      <td>0</td>\n      <td>0</td>\n      <td>0</td>\n      <td>0</td>\n      <td>0</td>\n      <td>0</td>\n    </tr>\n    <tr>\n      <td>39959</td>\n      <td>0</td>\n      <td>0</td>\n      <td>0</td>\n      <td>0</td>\n      <td>0</td>\n      <td>0</td>\n      <td>0</td>\n      <td>0</td>\n      <td>0</td>\n      <td>0</td>\n      <td>...</td>\n      <td>0</td>\n      <td>0</td>\n      <td>0</td>\n      <td>0</td>\n      <td>0</td>\n      <td>0</td>\n      <td>0</td>\n      <td>0</td>\n      <td>0</td>\n      <td>0</td>\n    </tr>\n    <tr>\n      <td>63986</td>\n      <td>0</td>\n      <td>0</td>\n      <td>0</td>\n      <td>0</td>\n      <td>0</td>\n      <td>0</td>\n      <td>0</td>\n      <td>0</td>\n      <td>0</td>\n      <td>0</td>\n      <td>...</td>\n      <td>0</td>\n      <td>0</td>\n      <td>0</td>\n      <td>0</td>\n      <td>0</td>\n      <td>0</td>\n      <td>0</td>\n      <td>0</td>\n      <td>0</td>\n      <td>0</td>\n    </tr>\n    <tr>\n      <td>43026</td>\n      <td>0</td>\n      <td>0</td>\n      <td>0</td>\n      <td>0</td>\n      <td>1</td>\n      <td>0</td>\n      <td>0</td>\n      <td>0</td>\n      <td>0</td>\n      <td>0</td>\n      <td>...</td>\n      <td>0</td>\n      <td>0</td>\n      <td>0</td>\n      <td>0</td>\n      <td>0</td>\n      <td>0</td>\n      <td>0</td>\n      <td>0</td>\n      <td>0</td>\n      <td>0</td>\n    </tr>\n    <tr>\n      <td>8559</td>\n      <td>0</td>\n      <td>0</td>\n      <td>1</td>\n      <td>0</td>\n      <td>0</td>\n      <td>0</td>\n      <td>0</td>\n      <td>0</td>\n      <td>0</td>\n      <td>0</td>\n      <td>...</td>\n      <td>0</td>\n      <td>0</td>\n      <td>0</td>\n      <td>0</td>\n      <td>0</td>\n      <td>0</td>\n      <td>0</td>\n      <td>0</td>\n      <td>0</td>\n      <td>0</td>\n    </tr>\n    <tr>\n      <td>76808</td>\n      <td>0</td>\n      <td>0</td>\n      <td>0</td>\n      <td>0</td>\n      <td>0</td>\n      <td>0</td>\n      <td>0</td>\n      <td>0</td>\n      <td>0</td>\n      <td>0</td>\n      <td>...</td>\n      <td>0</td>\n      <td>0</td>\n      <td>0</td>\n      <td>0</td>\n      <td>0</td>\n      <td>0</td>\n      <td>0</td>\n      <td>0</td>\n      <td>0</td>\n      <td>0</td>\n    </tr>\n    <tr>\n      <td>24701</td>\n      <td>0</td>\n      <td>0</td>\n      <td>0</td>\n      <td>0</td>\n      <td>0</td>\n      <td>0</td>\n      <td>0</td>\n      <td>0</td>\n      <td>0</td>\n      <td>0</td>\n      <td>...</td>\n      <td>0</td>\n      <td>0</td>\n      <td>0</td>\n      <td>0</td>\n      <td>0</td>\n      <td>0</td>\n      <td>0</td>\n      <td>0</td>\n      <td>0</td>\n      <td>0</td>\n    </tr>\n    <tr>\n      <td>49262</td>\n      <td>0</td>\n      <td>0</td>\n      <td>0</td>\n      <td>0</td>\n      <td>0</td>\n      <td>0</td>\n      <td>0</td>\n      <td>0</td>\n      <td>0</td>\n      <td>0</td>\n      <td>...</td>\n      <td>0</td>\n      <td>0</td>\n      <td>0</td>\n      <td>0</td>\n      <td>0</td>\n      <td>0</td>\n      <td>0</td>\n      <td>0</td>\n      <td>0</td>\n      <td>0</td>\n    </tr>\n    <tr>\n      <td>54272</td>\n      <td>0</td>\n      <td>0</td>\n      <td>0</td>\n      <td>0</td>\n      <td>0</td>\n      <td>0</td>\n      <td>0</td>\n      <td>0</td>\n      <td>0</td>\n      <td>0</td>\n      <td>...</td>\n      <td>0</td>\n      <td>0</td>\n      <td>0</td>\n      <td>0</td>\n      <td>0</td>\n      <td>0</td>\n      <td>0</td>\n      <td>0</td>\n      <td>0</td>\n      <td>0</td>\n    </tr>\n    <tr>\n      <td>47366</td>\n      <td>0</td>\n      <td>0</td>\n      <td>0</td>\n      <td>0</td>\n      <td>0</td>\n      <td>0</td>\n      <td>0</td>\n      <td>1</td>\n      <td>0</td>\n      <td>0</td>\n      <td>...</td>\n      <td>0</td>\n      <td>0</td>\n      <td>0</td>\n      <td>0</td>\n      <td>0</td>\n      <td>0</td>\n      <td>0</td>\n      <td>0</td>\n      <td>0</td>\n      <td>0</td>\n    </tr>\n    <tr>\n      <td>87098</td>\n      <td>0</td>\n      <td>0</td>\n      <td>0</td>\n      <td>0</td>\n      <td>0</td>\n      <td>0</td>\n      <td>0</td>\n      <td>0</td>\n      <td>0</td>\n      <td>0</td>\n      <td>...</td>\n      <td>0</td>\n      <td>0</td>\n      <td>0</td>\n      <td>0</td>\n      <td>0</td>\n      <td>0</td>\n      <td>0</td>\n      <td>0</td>\n      <td>0</td>\n      <td>0</td>\n    </tr>\n    <tr>\n      <td>25775</td>\n      <td>1</td>\n      <td>1</td>\n      <td>0</td>\n      <td>0</td>\n      <td>0</td>\n      <td>1</td>\n      <td>0</td>\n      <td>0</td>\n      <td>0</td>\n      <td>0</td>\n      <td>...</td>\n      <td>0</td>\n      <td>0</td>\n      <td>0</td>\n      <td>0</td>\n      <td>0</td>\n      <td>0</td>\n      <td>0</td>\n      <td>0</td>\n      <td>0</td>\n      <td>0</td>\n    </tr>\n    <tr>\n      <td>33165</td>\n      <td>0</td>\n      <td>0</td>\n      <td>0</td>\n      <td>0</td>\n      <td>0</td>\n      <td>1</td>\n      <td>0</td>\n      <td>1</td>\n      <td>0</td>\n      <td>0</td>\n      <td>...</td>\n      <td>0</td>\n      <td>0</td>\n      <td>0</td>\n      <td>0</td>\n      <td>0</td>\n      <td>0</td>\n      <td>0</td>\n      <td>0</td>\n      <td>0</td>\n      <td>0</td>\n    </tr>\n    <tr>\n      <td>38798</td>\n      <td>0</td>\n      <td>0</td>\n      <td>0</td>\n      <td>0</td>\n      <td>0</td>\n      <td>0</td>\n      <td>0</td>\n      <td>1</td>\n      <td>0</td>\n      <td>0</td>\n      <td>...</td>\n      <td>0</td>\n      <td>0</td>\n      <td>0</td>\n      <td>0</td>\n      <td>0</td>\n      <td>0</td>\n      <td>0</td>\n      <td>0</td>\n      <td>0</td>\n      <td>0</td>\n    </tr>\n    <tr>\n      <td>22123</td>\n      <td>0</td>\n      <td>0</td>\n      <td>0</td>\n      <td>0</td>\n      <td>0</td>\n      <td>0</td>\n      <td>0</td>\n      <td>0</td>\n      <td>0</td>\n      <td>1</td>\n      <td>...</td>\n      <td>0</td>\n      <td>0</td>\n      <td>0</td>\n      <td>0</td>\n      <td>0</td>\n      <td>0</td>\n      <td>0</td>\n      <td>0</td>\n      <td>0</td>\n      <td>0</td>\n    </tr>\n    <tr>\n      <td>90921</td>\n      <td>0</td>\n      <td>0</td>\n      <td>0</td>\n      <td>0</td>\n      <td>0</td>\n      <td>0</td>\n      <td>0</td>\n      <td>0</td>\n      <td>1</td>\n      <td>0</td>\n      <td>...</td>\n      <td>0</td>\n      <td>0</td>\n      <td>0</td>\n      <td>0</td>\n      <td>0</td>\n      <td>0</td>\n      <td>0</td>\n      <td>0</td>\n      <td>0</td>\n      <td>0</td>\n    </tr>\n    <tr>\n      <td>93958</td>\n      <td>1</td>\n      <td>1</td>\n      <td>0</td>\n      <td>0</td>\n      <td>0</td>\n      <td>0</td>\n      <td>0</td>\n      <td>0</td>\n      <td>0</td>\n      <td>0</td>\n      <td>...</td>\n      <td>0</td>\n      <td>0</td>\n      <td>0</td>\n      <td>0</td>\n      <td>0</td>\n      <td>1</td>\n      <td>0</td>\n      <td>0</td>\n      <td>0</td>\n      <td>0</td>\n    </tr>\n    <tr>\n      <td>58224</td>\n      <td>0</td>\n      <td>0</td>\n      <td>0</td>\n      <td>0</td>\n      <td>0</td>\n      <td>0</td>\n      <td>0</td>\n      <td>0</td>\n      <td>0</td>\n      <td>0</td>\n      <td>...</td>\n      <td>0</td>\n      <td>0</td>\n      <td>0</td>\n      <td>0</td>\n      <td>0</td>\n      <td>0</td>\n      <td>0</td>\n      <td>0</td>\n      <td>0</td>\n      <td>0</td>\n    </tr>\n    <tr>\n      <td>33606</td>\n      <td>0</td>\n      <td>0</td>\n      <td>0</td>\n      <td>0</td>\n      <td>0</td>\n      <td>1</td>\n      <td>0</td>\n      <td>0</td>\n      <td>0</td>\n      <td>0</td>\n      <td>...</td>\n      <td>0</td>\n      <td>0</td>\n      <td>0</td>\n      <td>0</td>\n      <td>0</td>\n      <td>0</td>\n      <td>0</td>\n      <td>0</td>\n      <td>0</td>\n      <td>0</td>\n    </tr>\n    <tr>\n      <td>94710</td>\n      <td>0</td>\n      <td>0</td>\n      <td>0</td>\n      <td>0</td>\n      <td>0</td>\n      <td>0</td>\n      <td>0</td>\n      <td>0</td>\n      <td>0</td>\n      <td>0</td>\n      <td>...</td>\n      <td>0</td>\n      <td>0</td>\n      <td>0</td>\n      <td>0</td>\n      <td>0</td>\n      <td>0</td>\n      <td>0</td>\n      <td>0</td>\n      <td>0</td>\n      <td>0</td>\n    </tr>\n    <tr>\n      <td>108414</td>\n      <td>0</td>\n      <td>0</td>\n      <td>1</td>\n      <td>0</td>\n      <td>0</td>\n      <td>0</td>\n      <td>0</td>\n      <td>0</td>\n      <td>0</td>\n      <td>0</td>\n      <td>...</td>\n      <td>0</td>\n      <td>0</td>\n      <td>0</td>\n      <td>0</td>\n      <td>0</td>\n      <td>0</td>\n      <td>0</td>\n      <td>0</td>\n      <td>0</td>\n      <td>0</td>\n    </tr>\n  </tbody>\n</table>\n<p>28 rows × 74 columns</p>\n</div>",
      "text/plain": "        oven  preheat  add  mix  pan  place  mix_2step  cover  drain  stir  \\\nid                                                                           \n137739     0        0    0    0    0      0          0      0      0     0   \n31490      1        1    0    0    1      0          0      0      0     0   \n59389      0        0    0    0    0      0          0      0      1     0   \n5289       0        0    0    0    0      0          0      0      0     0   \n70971      0        0    0    0    1      0          0      0      0     0   \n75452      1        1    0    0    0      0          0      0      0     0   \n42198      0        0    0    1    0      0          0      0      0     0   \n67547      0        0    0    0    0      0          0      1      0     0   \n39959      0        0    0    0    0      0          0      0      0     0   \n63986      0        0    0    0    0      0          0      0      0     0   \n43026      0        0    0    0    1      0          0      0      0     0   \n8559       0        0    1    0    0      0          0      0      0     0   \n76808      0        0    0    0    0      0          0      0      0     0   \n24701      0        0    0    0    0      0          0      0      0     0   \n49262      0        0    0    0    0      0          0      0      0     0   \n54272      0        0    0    0    0      0          0      0      0     0   \n47366      0        0    0    0    0      0          0      1      0     0   \n87098      0        0    0    0    0      0          0      0      0     0   \n25775      1        1    0    0    0      1          0      0      0     0   \n33165      0        0    0    0    0      1          0      1      0     0   \n38798      0        0    0    0    0      0          0      1      0     0   \n22123      0        0    0    0    0      0          0      0      0     1   \n90921      0        0    0    0    0      0          0      0      1     0   \n93958      1        1    0    0    0      0          0      0      0     0   \n58224      0        0    0    0    0      0          0      0      0     0   \n33606      0        0    0    0    0      1          0      0      0     0   \n94710      0        0    0    0    0      0          0      0      0     0   \n108414     0        0    1    0    0      0          0      0      0     0   \n\n        ...  garnish  stir_18step  cook_18step  steak  stir_19step  \\\nid      ...                                                          \n137739  ...        0            0            0      0            0   \n31490   ...        0            0            0      0            0   \n59389   ...        0            0            0      0            0   \n5289    ...        0            0            0      0            0   \n70971   ...        0            0            0      0            0   \n75452   ...        0            0            0      0            0   \n42198   ...        0            0            0      0            0   \n67547   ...        0            0            0      1            0   \n39959   ...        0            0            0      0            0   \n63986   ...        0            0            0      0            0   \n43026   ...        0            0            0      0            0   \n8559    ...        0            0            0      0            0   \n76808   ...        0            0            0      0            0   \n24701   ...        0            0            0      0            0   \n49262   ...        0            0            0      0            0   \n54272   ...        0            0            0      0            0   \n47366   ...        0            0            0      0            0   \n87098   ...        0            0            0      0            0   \n25775   ...        0            0            0      0            0   \n33165   ...        0            0            0      0            0   \n38798   ...        0            0            0      0            0   \n22123   ...        0            0            0      0            0   \n90921   ...        0            0            0      0            0   \n93958   ...        0            0            0      0            0   \n58224   ...        0            0            0      0            0   \n33606   ...        0            0            0      0            0   \n94710   ...        0            0            0      0            0   \n108414  ...        0            0            0      0            0   \n\n        oven_19step  flour  fryer  avocado  cook_20step  \nid                                                       \n137739            0      0      0        0            0  \n31490             0      0      0        0            0  \n59389             0      0      0        0            0  \n5289              0      0      0        0            0  \n70971             0      0      0        0            0  \n75452             0      0      0        0            0  \n42198             0      0      0        0            0  \n67547             0      0      0        0            0  \n39959             0      0      0        0            0  \n63986             0      0      0        0            0  \n43026             0      0      0        0            0  \n8559              0      0      0        0            0  \n76808             0      0      0        0            0  \n24701             0      0      0        0            0  \n49262             0      0      0        0            0  \n54272             0      0      0        0            0  \n47366             0      0      0        0            0  \n87098             0      0      0        0            0  \n25775             0      0      0        0            0  \n33165             0      0      0        0            0  \n38798             0      0      0        0            0  \n22123             0      0      0        0            0  \n90921             0      0      0        0            0  \n93958             1      0      0        0            0  \n58224             0      0      0        0            0  \n33606             0      0      0        0            0  \n94710             0      0      0        0            0  \n108414            0      0      0        0            0  \n\n[28 rows x 74 columns]"
     },
     "execution_count": 4,
     "metadata": {},
     "output_type": "execute_result"
    }
   ],
   "source": [
    "r_r"
   ]
  },
  {
   "cell_type": "markdown",
   "metadata": {},
   "source": [
    "Freq_items will include the combination of items appearing more often together. The consequence can be up to 20 items"
   ]
  },
  {
   "cell_type": "code",
   "execution_count": 5,
   "metadata": {},
   "outputs": [
    {
     "name": "stdout",
     "output_type": "stream",
     "text": "Processing 253 combinations | Sampling itemset size 11\n"
    },
    {
     "data": {
      "text/html": "<div>\n<style scoped>\n    .dataframe tbody tr th:only-of-type {\n        vertical-align: middle;\n    }\n\n    .dataframe tbody tr th {\n        vertical-align: top;\n    }\n\n    .dataframe thead th {\n        text-align: right;\n    }\n</style>\n<table border=\"1\" class=\"dataframe\">\n  <thead>\n    <tr style=\"text-align: right;\">\n      <th></th>\n      <th>support</th>\n      <th>itemsets</th>\n    </tr>\n  </thead>\n  <tbody>\n    <tr>\n      <td>0</td>\n      <td>0.142857</td>\n      <td>(oven)</td>\n    </tr>\n    <tr>\n      <td>1</td>\n      <td>0.142857</td>\n      <td>(preheat)</td>\n    </tr>\n    <tr>\n      <td>2</td>\n      <td>0.071429</td>\n      <td>(add)</td>\n    </tr>\n    <tr>\n      <td>3</td>\n      <td>0.035714</td>\n      <td>(mix)</td>\n    </tr>\n    <tr>\n      <td>4</td>\n      <td>0.107143</td>\n      <td>(pan)</td>\n    </tr>\n    <tr>\n      <td>5</td>\n      <td>0.107143</td>\n      <td>(place)</td>\n    </tr>\n    <tr>\n      <td>6</td>\n      <td>0.142857</td>\n      <td>(cover)</td>\n    </tr>\n  </tbody>\n</table>\n</div>",
      "text/plain": "    support   itemsets\n0  0.142857     (oven)\n1  0.142857  (preheat)\n2  0.071429      (add)\n3  0.035714      (mix)\n4  0.107143      (pan)\n5  0.107143    (place)\n6  0.142857    (cover)"
     },
     "execution_count": 5,
     "metadata": {},
     "output_type": "execute_result"
    }
   ],
   "source": [
    "freq_items = apriori.detect_freq_items(r_r, min_percentage=0.01, max_len = 20)\n",
    "freq_items.head(7)"
   ]
  },
  {
   "cell_type": "code",
   "execution_count": 6,
   "metadata": {},
   "outputs": [],
   "source": [
    "rules = apriori.get_association_rules(freq_items)\n"
   ]
  },
  {
   "cell_type": "code",
   "execution_count": 7,
   "metadata": {},
   "outputs": [
    {
     "data": {
      "text/html": "<div>\n<style scoped>\n    .dataframe tbody tr th:only-of-type {\n        vertical-align: middle;\n    }\n\n    .dataframe tbody tr th {\n        vertical-align: top;\n    }\n\n    .dataframe thead th {\n        text-align: right;\n    }\n</style>\n<table border=\"1\" class=\"dataframe\">\n  <thead>\n    <tr style=\"text-align: right;\">\n      <th></th>\n      <th>antecedents</th>\n      <th>consequents</th>\n      <th>antecedent support</th>\n      <th>consequent support</th>\n      <th>support</th>\n      <th>confidence</th>\n      <th>lift</th>\n      <th>leverage</th>\n      <th>conviction</th>\n    </tr>\n  </thead>\n  <tbody>\n    <tr>\n      <td>0</td>\n      <td>(oven)</td>\n      <td>(preheat)</td>\n      <td>0.142857</td>\n      <td>0.142857</td>\n      <td>0.142857</td>\n      <td>1.0</td>\n      <td>7.0</td>\n      <td>0.122449</td>\n      <td>inf</td>\n    </tr>\n    <tr>\n      <td>1</td>\n      <td>(preheat)</td>\n      <td>(oven)</td>\n      <td>0.142857</td>\n      <td>0.142857</td>\n      <td>0.142857</td>\n      <td>1.0</td>\n      <td>7.0</td>\n      <td>0.122449</td>\n      <td>inf</td>\n    </tr>\n    <tr>\n      <td>2</td>\n      <td>(oil)</td>\n      <td>(oven)</td>\n      <td>0.035714</td>\n      <td>0.142857</td>\n      <td>0.035714</td>\n      <td>1.0</td>\n      <td>7.0</td>\n      <td>0.030612</td>\n      <td>inf</td>\n    </tr>\n    <tr>\n      <td>3</td>\n      <td>(batter)</td>\n      <td>(oven)</td>\n      <td>0.035714</td>\n      <td>0.142857</td>\n      <td>0.035714</td>\n      <td>1.0</td>\n      <td>7.0</td>\n      <td>0.030612</td>\n      <td>inf</td>\n    </tr>\n    <tr>\n      <td>4</td>\n      <td>(oven_19step)</td>\n      <td>(oven)</td>\n      <td>0.035714</td>\n      <td>0.142857</td>\n      <td>0.035714</td>\n      <td>1.0</td>\n      <td>7.0</td>\n      <td>0.030612</td>\n      <td>inf</td>\n    </tr>\n  </tbody>\n</table>\n</div>",
      "text/plain": "     antecedents consequents  antecedent support  consequent support  \\\n0         (oven)   (preheat)            0.142857            0.142857   \n1      (preheat)      (oven)            0.142857            0.142857   \n2          (oil)      (oven)            0.035714            0.142857   \n3       (batter)      (oven)            0.035714            0.142857   \n4  (oven_19step)      (oven)            0.035714            0.142857   \n\n    support  confidence  lift  leverage  conviction  \n0  0.142857         1.0   7.0  0.122449         inf  \n1  0.142857         1.0   7.0  0.122449         inf  \n2  0.035714         1.0   7.0  0.030612         inf  \n3  0.035714         1.0   7.0  0.030612         inf  \n4  0.035714         1.0   7.0  0.030612         inf  "
     },
     "execution_count": 7,
     "metadata": {},
     "output_type": "execute_result"
    }
   ],
   "source": [
    "rules.head()"
   ]
  },
  {
   "cell_type": "markdown",
   "metadata": {},
   "source": [
    "Following I get the list of steps (described by frequent words ín steps). The sequence consist only from two steps."
   ]
  },
  {
   "cell_type": "code",
   "execution_count": 36,
   "metadata": {},
   "outputs": [
    {
     "data": {
      "text/plain": "(7, 2)"
     },
     "execution_count": 36,
     "metadata": {},
     "output_type": "execute_result"
    }
   ],
   "source": [
    "seq_ = rules[(rules.support > 0.04) & (rules.lift > 1) & (rules.confidence > ) & (rules.iloc[:,2] > 0.01)][['antecedents', 'consequents']]\n",
    "seq_steps = apriori.allSequencesToList(seq_)\n"
   ]
  },
  {
   "cell_type": "code",
   "execution_count": 39,
   "metadata": {},
   "outputs": [
    {
     "data": {
      "text/plain": "[['oven', 'preheat'],\n ['preheat', 'oven'],\n ['toss', 'place'],\n ['add_7step', 'add_4step'],\n ['add_4step', 'add_7step'],\n ['oven_13step', 'stir_7step'],\n ['stir_7step', 'oven_13step']]"
     },
     "execution_count": 39,
     "metadata": {},
     "output_type": "execute_result"
    }
   ],
   "source": [
    "seq_steps"
   ]
  }
 ],
 "metadata": {
  "kernelspec": {
   "display_name": "Python 3",
   "language": "python",
   "name": "python3"
  },
  "language_info": {
   "codemirror_mode": {
    "name": "ipython",
    "version": 3
   },
   "file_extension": ".py",
   "mimetype": "text/x-python",
   "name": "python",
   "nbconvert_exporter": "python",
   "pygments_lexer": "ipython3",
   "version": "3.7.3-final"
  }
 },
 "nbformat": 4,
 "nbformat_minor": 2
}