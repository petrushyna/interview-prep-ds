{
 "cells": [
  {
   "cell_type": "markdown",
   "metadata": {},
   "source": [
    "Read the json file as dataframe"
   ]
  },
  {
   "cell_type": "code",
   "execution_count": 29,
   "metadata": {},
   "outputs": [],
   "source": [
    "import pandas as pd\n",
    "import json\n",
    "import numpy as np\n",
    "import apriori\n"
   ]
  },
  {
   "cell_type": "code",
   "execution_count": 8,
   "metadata": {},
   "outputs": [],
   "source": [
    "data_df = pd.read_json(\"data/music_app/data.json\", orient = 'records', lines = True)"
   ]
  },
  {
   "cell_type": "code",
   "execution_count": 9,
   "metadata": {},
   "outputs": [
    {
     "data": {
      "text/html": "<div>\n<style scoped>\n    .dataframe tbody tr th:only-of-type {\n        vertical-align: middle;\n    }\n\n    .dataframe tbody tr th {\n        vertical-align: top;\n    }\n\n    .dataframe thead th {\n        text-align: right;\n    }\n</style>\n<table border=\"1\" class=\"dataframe\">\n  <thead>\n    <tr style=\"text-align: right;\">\n      <th></th>\n      <th>ts</th>\n      <th>userId</th>\n      <th>sessionId</th>\n      <th>page</th>\n      <th>auth</th>\n      <th>method</th>\n      <th>status</th>\n      <th>level</th>\n      <th>itemInSession</th>\n      <th>location</th>\n      <th>userAgent</th>\n      <th>lastName</th>\n      <th>firstName</th>\n      <th>registration</th>\n      <th>gender</th>\n      <th>artist</th>\n      <th>song</th>\n      <th>length</th>\n    </tr>\n  </thead>\n  <tbody>\n    <tr>\n      <td>0</td>\n      <td>1538352180000</td>\n      <td>9</td>\n      <td>8</td>\n      <td>NextSong</td>\n      <td>Logged In</td>\n      <td>PUT</td>\n      <td>200</td>\n      <td>free</td>\n      <td>79</td>\n      <td>Boston-Cambridge-Newton, MA-NH</td>\n      <td>\"Mozilla/5.0 (Windows NT 6.1; WOW64) AppleWebK...</td>\n      <td>Long</td>\n      <td>Micah</td>\n      <td>1.538332e+12</td>\n      <td>M</td>\n      <td>Five Iron Frenzy</td>\n      <td>Canada</td>\n      <td>236.09424</td>\n    </tr>\n    <tr>\n      <td>1</td>\n      <td>1538352394000</td>\n      <td>30</td>\n      <td>29</td>\n      <td>NextSong</td>\n      <td>Logged In</td>\n      <td>PUT</td>\n      <td>200</td>\n      <td>paid</td>\n      <td>51</td>\n      <td>Bakersfield, CA</td>\n      <td>Mozilla/5.0 (Windows NT 6.1; WOW64; rv:31.0) G...</td>\n      <td>Freeman</td>\n      <td>Colin</td>\n      <td>1.538173e+12</td>\n      <td>M</td>\n      <td>Adam Lambert</td>\n      <td>Time For Miracles</td>\n      <td>282.82730</td>\n    </tr>\n    <tr>\n      <td>2</td>\n      <td>1538352416000</td>\n      <td>9</td>\n      <td>8</td>\n      <td>NextSong</td>\n      <td>Logged In</td>\n      <td>PUT</td>\n      <td>200</td>\n      <td>free</td>\n      <td>80</td>\n      <td>Boston-Cambridge-Newton, MA-NH</td>\n      <td>\"Mozilla/5.0 (Windows NT 6.1; WOW64) AppleWebK...</td>\n      <td>Long</td>\n      <td>Micah</td>\n      <td>1.538332e+12</td>\n      <td>M</td>\n      <td>Enigma</td>\n      <td>Knocking On Forbidden Doors</td>\n      <td>262.71302</td>\n    </tr>\n    <tr>\n      <td>3</td>\n      <td>1538352676000</td>\n      <td>30</td>\n      <td>29</td>\n      <td>NextSong</td>\n      <td>Logged In</td>\n      <td>PUT</td>\n      <td>200</td>\n      <td>paid</td>\n      <td>52</td>\n      <td>Bakersfield, CA</td>\n      <td>Mozilla/5.0 (Windows NT 6.1; WOW64; rv:31.0) G...</td>\n      <td>Freeman</td>\n      <td>Colin</td>\n      <td>1.538173e+12</td>\n      <td>M</td>\n      <td>Daft Punk</td>\n      <td>Harder Better Faster Stronger</td>\n      <td>223.60771</td>\n    </tr>\n    <tr>\n      <td>4</td>\n      <td>1538352678000</td>\n      <td>9</td>\n      <td>8</td>\n      <td>NextSong</td>\n      <td>Logged In</td>\n      <td>PUT</td>\n      <td>200</td>\n      <td>free</td>\n      <td>81</td>\n      <td>Boston-Cambridge-Newton, MA-NH</td>\n      <td>\"Mozilla/5.0 (Windows NT 6.1; WOW64) AppleWebK...</td>\n      <td>Long</td>\n      <td>Micah</td>\n      <td>1.538332e+12</td>\n      <td>M</td>\n      <td>The All-American Rejects</td>\n      <td>Don't Leave Me</td>\n      <td>208.29995</td>\n    </tr>\n  </tbody>\n</table>\n</div>",
      "text/plain": "              ts userId  sessionId      page       auth method  status level  \\\n0  1538352180000      9          8  NextSong  Logged In    PUT     200  free   \n1  1538352394000     30         29  NextSong  Logged In    PUT     200  paid   \n2  1538352416000      9          8  NextSong  Logged In    PUT     200  free   \n3  1538352676000     30         29  NextSong  Logged In    PUT     200  paid   \n4  1538352678000      9          8  NextSong  Logged In    PUT     200  free   \n\n   itemInSession                        location  \\\n0             79  Boston-Cambridge-Newton, MA-NH   \n1             51                 Bakersfield, CA   \n2             80  Boston-Cambridge-Newton, MA-NH   \n3             52                 Bakersfield, CA   \n4             81  Boston-Cambridge-Newton, MA-NH   \n\n                                           userAgent lastName firstName  \\\n0  \"Mozilla/5.0 (Windows NT 6.1; WOW64) AppleWebK...     Long     Micah   \n1  Mozilla/5.0 (Windows NT 6.1; WOW64; rv:31.0) G...  Freeman     Colin   \n2  \"Mozilla/5.0 (Windows NT 6.1; WOW64) AppleWebK...     Long     Micah   \n3  Mozilla/5.0 (Windows NT 6.1; WOW64; rv:31.0) G...  Freeman     Colin   \n4  \"Mozilla/5.0 (Windows NT 6.1; WOW64) AppleWebK...     Long     Micah   \n\n   registration gender                    artist  \\\n0  1.538332e+12      M          Five Iron Frenzy   \n1  1.538173e+12      M              Adam Lambert   \n2  1.538332e+12      M                    Enigma   \n3  1.538173e+12      M                 Daft Punk   \n4  1.538332e+12      M  The All-American Rejects   \n\n                            song     length  \n0                         Canada  236.09424  \n1              Time For Miracles  282.82730  \n2    Knocking On Forbidden Doors  262.71302  \n3  Harder Better Faster Stronger  223.60771  \n4                 Don't Leave Me  208.29995  "
     },
     "execution_count": 9,
     "metadata": {},
     "output_type": "execute_result"
    }
   ],
   "source": [
    "data_df.head()"
   ]
  },
  {
   "cell_type": "markdown",
   "metadata": {},
   "source": [
    "Check if there are rare appearance of users,etc."
   ]
  },
  {
   "cell_type": "code",
   "execution_count": 11,
   "metadata": {},
   "outputs": [
    {
     "name": "stdout",
     "output_type": "stream",
     "text": "userId\n39        9632\n          8346\n92        7230\n140       6880\n300011    5732\n          ... \n300003      35\n100011      23\n125         11\n135          6\n156          6\nName: userId, Length: 226, dtype: int64\nsessionId\n1840    1322\n316     1247\n236      905\n635      890\n368      799\n        ... \n1286       1\n1890       1\n1374       1\n2399       1\n2426       1\nName: sessionId, Length: 2354, dtype: int64\npage\nNextSong                     228107\nHome                          14457\nThumbs Up                     12551\nAdd to Playlist                6526\nAdd Friend                     4277\nRoll Advert                    3933\nLogin                          3241\nLogout                         3226\nThumbs Down                    2546\nDowngrade                      2055\nHelp                           1726\nSettings                       1514\nAbout                           924\nUpgrade                         499\nSave Settings                   310\nError                           258\nSubmit Upgrade                  159\nSubmit Downgrade                 63\nCancellation Confirmation        52\nCancel                           52\nRegister                         18\nSubmit Registration               5\nName: page, dtype: int64\nauth\nLogged In     278101\nLogged Out      8249\nGuest             97\nCancelled         52\nName: auth, dtype: int64\nmethod\nPUT    261063\nGET     25436\nName: method, dtype: int64\nstatus\n200    259811\n307     26430\n404       258\nName: status, dtype: int64\nlevel\npaid    228161\nfree     58338\nName: level, dtype: int64\nitemInSession\n0       3278\n1       3125\n2       3067\n3       3013\n4       2977\n        ... \n1214       1\n1215       1\n1149       1\n1216       1\n1279       1\nName: itemInSession, Length: 1322, dtype: int64\nlastName\nCampbell    14060\nReed         9284\nWilliams     8410\nTaylor       7230\nJohnson      6106\n            ...  \nWolf           40\nSanchez        35\nBall           23\nHart           11\nCabrera         6\nName: lastName, Length: 173, dtype: int64\nfirstName\nPayton      9632\nRiley       7970\nLucero      6880\nEmilia      5732\nEmma        5478\n            ... \nLeyla         44\nLiam          44\nJonathon      36\nQuentin       35\nMason         11\nName: firstName, Length: 189, dtype: int64\nregistration\n1.529028e+12    9632\n1.536404e+12    7230\n1.536642e+12    6880\n1.538337e+12    5732\n1.532224e+12    4825\n                ... \n1.530789e+12      35\n1.537971e+12      23\n1.533157e+12      11\n1.532434e+12       6\n1.543247e+12       6\nName: registration, Length: 225, dtype: int64\ngender\nF    154578\nM    123575\nName: gender, dtype: int64\n"
    }
   ],
   "source": [
    "data_df_columns = data_df.columns.drop(['location', 'userAgent', 'artist', 'song', 'length', 'ts'])\n",
    "for col in data_df_columns:\n",
    "    print(col)\n",
    "    print(data_df[col].value_counts())"
   ]
  },
  {
   "cell_type": "markdown",
   "metadata": {},
   "source": [
    "Delete rows that belong to one session only:"
   ]
  },
  {
   "cell_type": "code",
   "execution_count": 12,
   "metadata": {},
   "outputs": [],
   "source": [
    "print(data_df.shape)\n",
    "data_df = data_df[data_df.sessionId > 1]\n",
    "print(data_df.shape)"
   ]
  },
  {
   "cell_type": "markdown",
   "metadata": {},
   "source": [
    "Group by __userId__ and __sessionId__"
   ]
  },
  {
   "cell_type": "code",
   "execution_count": 23,
   "metadata": {},
   "outputs": [
    {
     "name": "stdout",
     "output_type": "stream",
     "text": "231\n"
    }
   ],
   "source": [
    "\n",
    "data_grouped = data_df.groupby(['userId','sessionId']).count()\n",
    "user_session = list(data_grouped[data_grouped['ts'] < 5].index)\n",
    "user_session_list = []\n",
    "for item in user_session:\n",
    "    if(item[0] != ''):\n",
    "        user_session_list.append(list(item))\n",
    "print(len(user_session_list))"
   ]
  },
  {
   "cell_type": "markdown",
   "metadata": {},
   "source": [
    "Collect all consequences of songs for a user in one session:"
   ]
  },
  {
   "cell_type": "code",
   "execution_count": 24,
   "metadata": {},
   "outputs": [
    {
     "name": "stdout",
     "output_type": "stream",
     "text": "[['Prince & The New Power Generation [with Eric Leeds on Flute]_Gett Off', 'Eels_Love Of The Loveless'], ['Black Eyed Peas_Gone Going', 'Paramore_All We Know (Album Version)'], ['Black Eyed Peas_I Gotta Feeling (FMIF Remix Edit)', 'John Waite_Missing You'], ['Radiohead_Creep (Explicit)', 'Richard Marx_Right Here Waiting (Single Edit)', 'Evanescence_Bring Me To Life', 'Nada Surf_Weightless'], ['Catherine Wheel_Wish You Were Here', \"Kicking K8_Don't Let Me Fall\"], ['Angels and Airwaves_The Gift', 'Chromeo_Night By Night'], ['Everything But The Girl_Better Things', 'The Killers_Losing Touch', 'Daft Punk_Something About Us'], ['M2M_Pretty Boy (LP Version)', 'Edward Sharpe & The Magnetic Zeros_Up From Below'], ['Lily Allen_Not Fair', 'Ornette Coleman Trio_Snowflakes And Sunshine (Live) (2002 Digital Remaster) (The Rudy Van Gelder Edition)'], ['Mano Negra_Mala Vida', 'Neutral Milk Hotel_Holland_ 1945'], ['Justice_DVNO', 'Jack Johnson_What You Thought You Need'], ['TiÃ\\x83Â«sto feat. Calvin Harris_Century', 'Captain & Tennille_Love Will Keep Us Together'], ['Angels and Airwaves_The Gift', 'Taylor Swift_Love Story'], [\"The Lonely Island / T-Pain_I'm On A Boat\", 'Tito Gomez_Pagina Del Amor'], ['The White Stripes_Fell In Love With A Girl', 'Restiform Bodies_Interactive Halloween Bear'], ['Phil Wickham_Heaven Song', 'Asia 2001_Epilogue'], ['New Radicals_You Get What You Give', 'Nirvana_Been A Son'], ['The Crystal Method_Double Down Under', 'Gang Starr/Inspectah Deck_Above The Clouds (Edited)'], ['Why?_Rubber Traits', 'Big Mountain_Baby_ I Love Your Way (Album Version)'], ['Subhumans_Rain', 'datA_Electric Fever (Idiotproof remix)'], ['Pnau_Embrace', 'STRATOVARIUS_Soul Of A Vagabond'], [\"Newton Faulkner_She's Got The Time\", 'Rise Against_The Strength To Go On', 'Ezra Furman And The Harpoons_The Stakes Are High'], ['Foolish Things_Who Can Compare', 'Maelo Ruiz_Mi Mundo Es De Ella'], ['Ra Ra Riot_Can You Tell', 'Fatboy Slim_Praise You', 'India.Arie_Ready For Love'], ['Eminem / Dina Rae_Superman', 'Lupe Fiasco_Put You On Game (Explicit Album Version)'], ['Tiny Vipers_They Might Follow You', 'Bread_Too Much Love', 'The xx_Basic Space', 'Eminem_Mockingbird'], ['Righteous Brothers_Unchained Melody', 'Emre Aydin_Unut Gittigin Bir Yerde'], ['Wyclef Jean / Mary J. Blige_911', 'Evanescence_Tourniquet'], ['Caribou_Odessa', 'The Black Keys_Unknown Brother', 'Cybertron_Clear', 'La Renga_Hablando De La Libertad'], ['Coldplay_The Scientist', \"The Black Keys_I'll Be Your Man\"], ['As I Lay Dying_Vacancy', 'Louis Prima And Keely Smith_Autumn Leaves (Live-Sahara Casino) (24-Bit Remastering) (2005 Digital Remaster)'], ['Bohren & Der Club Of Gore_Schwarze Biene (Black Maja)', 'Pixies_Hey', 'Kay Starr_Fly Me To The Moon'], ['Florence + The Machine_Dog Days Are Over (Radio Edit)', 'Bersuit Vergarabat_Yo Tomo', 'Deadmau5_Complications', 'Lil Wayne / T-Pain_Got Money'], ['Mano Negra_Mala Vida', 'Corinne Bailey Rae_Seasons Change'], ['The Spill Canvas_The TIde (LP Version)', 'Olivia Newton-John_Hochmah (Interlude)'], ['Mavado_Money Changer', 'Blood_ Sweat & Tears_Spinning Wheel'], ['Black Eyed Peas_I Gotta Feeling', 'Kristine W_Be Alright (feat. George Lynch)', 'Cut Copy_Feel The Love'], ['Portishead_Western Eyes', 'The Notorious B.I.G._Get Money'], ['Modest Mouse_Float On', \"Blink-182_Adam's Song\", 'Radiohead_15 Step'], ['Radiohead_Creep (Explicit)', 'LMFAO_Yes'], ['Camila_Coleccionista De Canciones  (Version Acustica)', 'Vangelis_Conquest Of Paradise', 'Doctor Explosion_A greedy girl like you'], ['Third Day_Mama', 'Little Boots_Earthquake (album version)'], ['Pretty Ricky_Leave It All Up To You (explicit album version)', 'The Black Keys_Everywhere I Go', 'The Rolling Stones_Sister Morphine'], ['Marc Anthony_Valio La Pena', 'Daft Punk_Digital Love', 'The Prodigy_Firestarter'], ['Michael BublÃ\\x83Â©_Me And Mrs. Jones (Album Version)', 'Tommy James And The Shondells_Hanky Panky (Mono)', 'Chromeo_Call Me Up'], ['Eisley_Taking Control (Album Version)', \"Lady GaGa / Colby O'Donis_Just Dance\", '3OH!3_STARSTRUKK [FEATURINGKATYPERRY] (Explicit Bonus Version)'], ['Queens Of The Stone Age_The Lost Art Of Keeping A Secret', 'All-4-One_I Can Love You Like That (LP Version)'], ['Angelic Upstarts_Two Million Voices', \"Glenn Lewis_Don't You Forget It\"], ['Empire Of The Sun_Walking On A Dream', 'Panic At The Disco_Behind The Sea [Live In Chicago]', 'Alliance Ethnik_SinceritÃ\\x83Â© Et Jalousie'], ['Luis Fonsi_Vivo Muriendo', 'BeyoncÃ\\x83Â©_Halo'], ['Usher featuring will.i.am_OMG', 'Joan Jett & The Blackhearts_I Hate Myself For Loving You', 'Justin Timberlake;Justin Timberlake featuring will.i.am_Damn Girl'], ['Beirut_A Sunday Smile', 'Phoenix_Lost And Found'], ['A Tribe Called Quest_Find A Way', 'A-Ha_What There Is'], ['The New Pornographers_The New Face Of Zero And One', \"Band Aid_Do They Know It's Christmas?\", \"Deadmau5_Moar Ghosts 'n' Stuff\"], ['Delirious?_Paint The Town Red', 'Selena_Cobarde', 'Kings Of Leon_Use Somebody'], ['LCD Soundsystem_North American Scum', 'Soundgarden_Burden In My Hand', 'Young Galaxy_Outside The City'], ['Richard Marx_Heaven Only Knows', 'Armin van Buuren_In and Out of Love'], ['A Skylit Drive_Running With The Light', 'Commodores_Nightshift'], [\"Flyleaf_I'm So Sick\", 'Rob Zombie_Black Sunshine', 'Snow Patrol_You Could Be Happy'], ['DeGarmo & Key_Ready Or Not (Rock Solid Album Version)', 'Pixies_The Holiday Song'], ['Organized Konfusion_Why', 'George Michael_Careless Whisper', 'Showtek_FTS'], ['Edenbridge_Elsewhere', 'John Mayer_Bold As Love'], ['Static-X_Dirthouse (Album Version)', 'Weird Al Yankovic_Headline News'], ['Leona Lewis_Bleeding Love', 'Portishead_Mourning Air'], [\"Creed_Who's Got My Back\", 'Mariah Carey_Bye Bye', \"Danny Wilson_Mary's Prayer\"], [\"Gavin DeGraw_I Don't Want To Be\", 'Seal_When A Man Is Wrong (Album Version)', 'Florence + The Machine_Dog Days Are Over (Radio Edit)'], ['ATB_The Summer', 'Rihanna_Rehab']]\n"
    }
   ],
   "source": [
    "artist_song = []\n",
    "for user, session in user_session_list:\n",
    "    selected = data_df[(data_df['userId'] == str(user)) & (data_df['sessionId'] == session) \n",
    "                       & (data_df['artist'].notna())]\n",
    "    selected_list = list(selected[['artist','song']].values)\n",
    "    if(len(selected_list) > 1):\n",
    "        artist_song.append([str(l[0]) + \"_\" + str(l[1]) for l in selected_list])\n",
    "print(artist_song)"
   ]
  },
  {
   "cell_type": "markdown",
   "metadata": {},
   "source": [
    "Create a variable to look for songs consequences: each song is located according to the appearance (1st - 0 column, 2nd - 1st column, etc..)"
   ]
  },
  {
   "cell_type": "code",
   "execution_count": 25,
   "metadata": {},
   "outputs": [],
   "source": [
    "sequences_4 = pd.get_dummies(pd.DataFrame(artist_song))"
   ]
  },
  {
   "cell_type": "markdown",
   "metadata": {},
   "source": [
    "Following we are detecting the frequent items appearing after each other, the place in the consequence is considered. Later the consequences with the high lift are shown. These are combinations appearing more often than other combinations with one of the songs from a combination. "
   ]
  },
  {
   "cell_type": "code",
   "execution_count": 30,
   "metadata": {},
   "outputs": [
    {
     "name": "stdout",
     "output_type": "stream",
     "text": "Processing 1560 combinations | Sampling itemset size 4\n"
    }
   ],
   "source": [
    "freq_items = apriori.detect_freq_items(sequences_4, max_len = 4)"
   ]
  },
  {
   "cell_type": "code",
   "execution_count": 31,
   "metadata": {},
   "outputs": [
    {
     "data": {
      "text/plain": "67.0    502\n33.5     24\nName: lift, dtype: int64"
     },
     "execution_count": 31,
     "metadata": {},
     "output_type": "execute_result"
    }
   ],
   "source": [
    "association_rules = apriori.get_association_rules(freq_items, min_confidence = 0)\n",
    "association_rules.lift.value_counts()"
   ]
  },
  {
   "cell_type": "code",
   "execution_count": 36,
   "metadata": {},
   "outputs": [
    {
     "data": {
      "text/html": "<div>\n<style scoped>\n    .dataframe tbody tr th:only-of-type {\n        vertical-align: middle;\n    }\n\n    .dataframe tbody tr th {\n        vertical-align: top;\n    }\n\n    .dataframe thead th {\n        text-align: right;\n    }\n</style>\n<table border=\"1\" class=\"dataframe\">\n  <thead>\n    <tr style=\"text-align: right;\">\n      <th></th>\n      <th>antecedents</th>\n      <th>consequents</th>\n      <th>antecedent support</th>\n      <th>consequent support</th>\n      <th>support</th>\n      <th>confidence</th>\n      <th>lift</th>\n      <th>leverage</th>\n      <th>conviction</th>\n    </tr>\n  </thead>\n  <tbody>\n    <tr>\n      <td>0</td>\n      <td>'0_A Skylit Drive_Running With The Light'</td>\n      <td>'1_Commodores_Nightshift'</td>\n      <td>0.014925</td>\n      <td>0.014925</td>\n      <td>0.014925</td>\n      <td>1.0</td>\n      <td>67.0</td>\n      <td>0.014703</td>\n      <td>inf</td>\n    </tr>\n    <tr>\n      <td>1</td>\n      <td>'1_Commodores_Nightshift'</td>\n      <td>'0_A Skylit Drive_Running With The Light'</td>\n      <td>0.014925</td>\n      <td>0.014925</td>\n      <td>0.014925</td>\n      <td>1.0</td>\n      <td>67.0</td>\n      <td>0.014703</td>\n      <td>inf</td>\n    </tr>\n    <tr>\n      <td>2</td>\n      <td>'1_A-Ha_What There Is'</td>\n      <td>'0_A Tribe Called Quest_Find A Way'</td>\n      <td>0.014925</td>\n      <td>0.014925</td>\n      <td>0.014925</td>\n      <td>1.0</td>\n      <td>67.0</td>\n      <td>0.014703</td>\n      <td>inf</td>\n    </tr>\n    <tr>\n      <td>3</td>\n      <td>'0_A Tribe Called Quest_Find A Way'</td>\n      <td>'1_A-Ha_What There Is'</td>\n      <td>0.014925</td>\n      <td>0.014925</td>\n      <td>0.014925</td>\n      <td>1.0</td>\n      <td>67.0</td>\n      <td>0.014703</td>\n      <td>inf</td>\n    </tr>\n    <tr>\n      <td>4</td>\n      <td>'0_ATB_The Summer'</td>\n      <td>'1_Rihanna_Rehab'</td>\n      <td>0.014925</td>\n      <td>0.014925</td>\n      <td>0.014925</td>\n      <td>1.0</td>\n      <td>67.0</td>\n      <td>0.014703</td>\n      <td>inf</td>\n    </tr>\n    <tr>\n      <td>...</td>\n      <td>...</td>\n      <td>...</td>\n      <td>...</td>\n      <td>...</td>\n      <td>...</td>\n      <td>...</td>\n      <td>...</td>\n      <td>...</td>\n      <td>...</td>\n    </tr>\n    <tr>\n      <td>521</td>\n      <td>'2_The xx_Basic Space', '0_Tiny Vipers_They Mi...</td>\n      <td>'1_Bread_Too Much Love', '3_Eminem_Mockingbird'</td>\n      <td>0.014925</td>\n      <td>0.014925</td>\n      <td>0.014925</td>\n      <td>1.0</td>\n      <td>67.0</td>\n      <td>0.014703</td>\n      <td>inf</td>\n    </tr>\n    <tr>\n      <td>522</td>\n      <td>'1_Bread_Too Much Love'</td>\n      <td>'3_Eminem_Mockingbird', '2_The xx_Basic Space'...</td>\n      <td>0.014925</td>\n      <td>0.014925</td>\n      <td>0.014925</td>\n      <td>1.0</td>\n      <td>67.0</td>\n      <td>0.014703</td>\n      <td>inf</td>\n    </tr>\n    <tr>\n      <td>523</td>\n      <td>'3_Eminem_Mockingbird'</td>\n      <td>'1_Bread_Too Much Love', '2_The xx_Basic Space...</td>\n      <td>0.014925</td>\n      <td>0.014925</td>\n      <td>0.014925</td>\n      <td>1.0</td>\n      <td>67.0</td>\n      <td>0.014703</td>\n      <td>inf</td>\n    </tr>\n    <tr>\n      <td>524</td>\n      <td>'2_The xx_Basic Space'</td>\n      <td>'1_Bread_Too Much Love', '3_Eminem_Mockingbird...</td>\n      <td>0.014925</td>\n      <td>0.014925</td>\n      <td>0.014925</td>\n      <td>1.0</td>\n      <td>67.0</td>\n      <td>0.014703</td>\n      <td>inf</td>\n    </tr>\n    <tr>\n      <td>525</td>\n      <td>'0_Tiny Vipers_They Might Follow You'</td>\n      <td>'1_Bread_Too Much Love', '3_Eminem_Mockingbird...</td>\n      <td>0.014925</td>\n      <td>0.014925</td>\n      <td>0.014925</td>\n      <td>1.0</td>\n      <td>67.0</td>\n      <td>0.014703</td>\n      <td>inf</td>\n    </tr>\n  </tbody>\n</table>\n<p>502 rows × 9 columns</p>\n</div>",
      "text/plain": "                                           antecedents  \\\n0            '0_A Skylit Drive_Running With The Light'   \n1                            '1_Commodores_Nightshift'   \n2                               '1_A-Ha_What There Is'   \n3                  '0_A Tribe Called Quest_Find A Way'   \n4                                   '0_ATB_The Summer'   \n..                                                 ...   \n521  '2_The xx_Basic Space', '0_Tiny Vipers_They Mi...   \n522                            '1_Bread_Too Much Love'   \n523                             '3_Eminem_Mockingbird'   \n524                             '2_The xx_Basic Space'   \n525              '0_Tiny Vipers_They Might Follow You'   \n\n                                           consequents  antecedent support  \\\n0                            '1_Commodores_Nightshift'            0.014925   \n1            '0_A Skylit Drive_Running With The Light'            0.014925   \n2                  '0_A Tribe Called Quest_Find A Way'            0.014925   \n3                               '1_A-Ha_What There Is'            0.014925   \n4                                    '1_Rihanna_Rehab'            0.014925   \n..                                                 ...                 ...   \n521    '1_Bread_Too Much Love', '3_Eminem_Mockingbird'            0.014925   \n522  '3_Eminem_Mockingbird', '2_The xx_Basic Space'...            0.014925   \n523  '1_Bread_Too Much Love', '2_The xx_Basic Space...            0.014925   \n524  '1_Bread_Too Much Love', '3_Eminem_Mockingbird...            0.014925   \n525  '1_Bread_Too Much Love', '3_Eminem_Mockingbird...            0.014925   \n\n     consequent support   support  confidence  lift  leverage  conviction  \n0              0.014925  0.014925         1.0  67.0  0.014703         inf  \n1              0.014925  0.014925         1.0  67.0  0.014703         inf  \n2              0.014925  0.014925         1.0  67.0  0.014703         inf  \n3              0.014925  0.014925         1.0  67.0  0.014703         inf  \n4              0.014925  0.014925         1.0  67.0  0.014703         inf  \n..                  ...       ...         ...   ...       ...         ...  \n521            0.014925  0.014925         1.0  67.0  0.014703         inf  \n522            0.014925  0.014925         1.0  67.0  0.014703         inf  \n523            0.014925  0.014925         1.0  67.0  0.014703         inf  \n524            0.014925  0.014925         1.0  67.0  0.014703         inf  \n525            0.014925  0.014925         1.0  67.0  0.014703         inf  \n\n[502 rows x 9 columns]"
     },
     "execution_count": 36,
     "metadata": {},
     "output_type": "execute_result"
    }
   ],
   "source": [
    "association_rules[association_rules.lift==67]"
   ]
  },
  {
   "cell_type": "markdown",
   "metadata": {},
   "source": [
    "Show all combinations of songs if users starts the session with Radiohead_Creep (Explicit)"
   ]
  },
  {
   "cell_type": "code",
   "execution_count": 33,
   "metadata": {},
   "outputs": [
    {
     "data": {
      "text/html": "<div>\n<style scoped>\n    .dataframe tbody tr th:only-of-type {\n        vertical-align: middle;\n    }\n\n    .dataframe tbody tr th {\n        vertical-align: top;\n    }\n\n    .dataframe thead th {\n        text-align: right;\n    }\n</style>\n<table border=\"1\" class=\"dataframe\">\n  <thead>\n    <tr style=\"text-align: right;\">\n      <th></th>\n      <th>antecedents</th>\n      <th>consequents</th>\n      <th>antecedent support</th>\n      <th>consequent support</th>\n      <th>support</th>\n      <th>confidence</th>\n      <th>lift</th>\n      <th>leverage</th>\n      <th>conviction</th>\n    </tr>\n  </thead>\n  <tbody>\n    <tr>\n      <td>144</td>\n      <td>(0_Radiohead_Creep (Explicit))</td>\n      <td>(1_LMFAO_Yes)</td>\n      <td>0.029851</td>\n      <td>0.014925</td>\n      <td>0.014925</td>\n      <td>0.5</td>\n      <td>33.5</td>\n      <td>0.01448</td>\n      <td>1.970149</td>\n    </tr>\n    <tr>\n      <td>147</td>\n      <td>(0_Radiohead_Creep (Explicit))</td>\n      <td>(1_Richard Marx_Right Here Waiting (Single Edit))</td>\n      <td>0.029851</td>\n      <td>0.014925</td>\n      <td>0.014925</td>\n      <td>0.5</td>\n      <td>33.5</td>\n      <td>0.01448</td>\n      <td>1.970149</td>\n    </tr>\n    <tr>\n      <td>149</td>\n      <td>(0_Radiohead_Creep (Explicit))</td>\n      <td>(2_Evanescence_Bring Me To Life)</td>\n      <td>0.029851</td>\n      <td>0.014925</td>\n      <td>0.014925</td>\n      <td>0.5</td>\n      <td>33.5</td>\n      <td>0.01448</td>\n      <td>1.970149</td>\n    </tr>\n    <tr>\n      <td>150</td>\n      <td>(0_Radiohead_Creep (Explicit))</td>\n      <td>(3_Nada Surf_Weightless)</td>\n      <td>0.029851</td>\n      <td>0.014925</td>\n      <td>0.014925</td>\n      <td>0.5</td>\n      <td>33.5</td>\n      <td>0.01448</td>\n      <td>1.970149</td>\n    </tr>\n    <tr>\n      <td>402</td>\n      <td>(0_Radiohead_Creep (Explicit))</td>\n      <td>(1_Richard Marx_Right Here Waiting (Single Edi...</td>\n      <td>0.029851</td>\n      <td>0.014925</td>\n      <td>0.014925</td>\n      <td>0.5</td>\n      <td>33.5</td>\n      <td>0.01448</td>\n      <td>1.970149</td>\n    </tr>\n    <tr>\n      <td>408</td>\n      <td>(0_Radiohead_Creep (Explicit))</td>\n      <td>(1_Richard Marx_Right Here Waiting (Single Edi...</td>\n      <td>0.029851</td>\n      <td>0.014925</td>\n      <td>0.014925</td>\n      <td>0.5</td>\n      <td>33.5</td>\n      <td>0.01448</td>\n      <td>1.970149</td>\n    </tr>\n    <tr>\n      <td>414</td>\n      <td>(0_Radiohead_Creep (Explicit))</td>\n      <td>(2_Evanescence_Bring Me To Life, 3_Nada Surf_W...</td>\n      <td>0.029851</td>\n      <td>0.014925</td>\n      <td>0.014925</td>\n      <td>0.5</td>\n      <td>33.5</td>\n      <td>0.01448</td>\n      <td>1.970149</td>\n    </tr>\n    <tr>\n      <td>509</td>\n      <td>(0_Radiohead_Creep (Explicit))</td>\n      <td>(1_Richard Marx_Right Here Waiting (Single Edi...</td>\n      <td>0.029851</td>\n      <td>0.014925</td>\n      <td>0.014925</td>\n      <td>0.5</td>\n      <td>33.5</td>\n      <td>0.01448</td>\n      <td>1.970149</td>\n    </tr>\n  </tbody>\n</table>\n</div>",
      "text/plain": "                        antecedents  \\\n144  (0_Radiohead_Creep (Explicit))   \n147  (0_Radiohead_Creep (Explicit))   \n149  (0_Radiohead_Creep (Explicit))   \n150  (0_Radiohead_Creep (Explicit))   \n402  (0_Radiohead_Creep (Explicit))   \n408  (0_Radiohead_Creep (Explicit))   \n414  (0_Radiohead_Creep (Explicit))   \n509  (0_Radiohead_Creep (Explicit))   \n\n                                           consequents  antecedent support  \\\n144                                      (1_LMFAO_Yes)            0.029851   \n147  (1_Richard Marx_Right Here Waiting (Single Edit))            0.029851   \n149                   (2_Evanescence_Bring Me To Life)            0.029851   \n150                           (3_Nada Surf_Weightless)            0.029851   \n402  (1_Richard Marx_Right Here Waiting (Single Edi...            0.029851   \n408  (1_Richard Marx_Right Here Waiting (Single Edi...            0.029851   \n414  (2_Evanescence_Bring Me To Life, 3_Nada Surf_W...            0.029851   \n509  (1_Richard Marx_Right Here Waiting (Single Edi...            0.029851   \n\n     consequent support   support  confidence  lift  leverage  conviction  \n144            0.014925  0.014925         0.5  33.5   0.01448    1.970149  \n147            0.014925  0.014925         0.5  33.5   0.01448    1.970149  \n149            0.014925  0.014925         0.5  33.5   0.01448    1.970149  \n150            0.014925  0.014925         0.5  33.5   0.01448    1.970149  \n402            0.014925  0.014925         0.5  33.5   0.01448    1.970149  \n408            0.014925  0.014925         0.5  33.5   0.01448    1.970149  \n414            0.014925  0.014925         0.5  33.5   0.01448    1.970149  \n509            0.014925  0.014925         0.5  33.5   0.01448    1.970149  "
     },
     "execution_count": 33,
     "metadata": {},
     "output_type": "execute_result"
    }
   ],
   "source": [
    "association_rules[association_rules.antecedents == frozenset({'0_Radiohead_Creep (Explicit)'})]"
   ]
  }
 ],
 "metadata": {
  "kernelspec": {
   "display_name": "Python 3",
   "language": "python",
   "name": "python3"
  },
  "language_info": {
   "codemirror_mode": {
    "name": "ipython",
    "version": 3
   },
   "file_extension": ".py",
   "mimetype": "text/x-python",
   "name": "python",
   "nbconvert_exporter": "python",
   "pygments_lexer": "ipython3",
   "version": "3.7.3-final"
  }
 },
 "nbformat": 4,
 "nbformat_minor": 2
}